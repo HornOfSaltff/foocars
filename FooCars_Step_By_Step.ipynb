{
  "nbformat": 4,
  "nbformat_minor": 0,
  "metadata": {
    "colab": {
      "name": " FooCars Step By Step",
      "version": "0.3.2",
      "provenance": [],
      "collapsed_sections": [],
      "toc_visible": true,
      "include_colab_link": true
    },
    "kernelspec": {
      "name": "python3",
      "display_name": "Python 3"
    },
    "accelerator": "GPU"
  },
  "cells": [
    {
      "cell_type": "markdown",
      "metadata": {
        "id": "view-in-github",
        "colab_type": "text"
      },
      "source": [
        "<a href=\"https://colab.research.google.com/github/lcipolina/foocars/blob/lucia/FooCars_Step_By_Step.ipynb\" target=\"_parent\"><img src=\"https://colab.research.google.com/assets/colab-badge.svg\" alt=\"Open In Colab\"/></a>"
      ]
    },
    {
      "cell_type": "markdown",
      "metadata": {
        "id": "i5ejv-Jt8D__",
        "colab_type": "text"
      },
      "source": [
        "# What is Foocars and why should I care?\n",
        "\n",
        "Foocars is an inexpensive open source autonomous car driving system. It uses machine learning to create a robust method of driving cars around cones and obstaces.  \"Cars\" is broad term in this case. It's been used on toy cars, RC Cars, and single seater Power Wheels vehicles. This is an extremely low cost and robust option to get started in understanding autonomous vehicles.\n",
        "\n",
        "For this project we''ll use the RC car version and work out how the car trains and later makes decisions based on the collected training data.\n"
      ]
    },
    {
      "cell_type": "code",
      "metadata": {
        "id": "ZAwcWUHr7-uw",
        "colab_type": "code",
        "colab": {}
      },
      "source": [
        "import numpy as np\n",
        "import matplotlib.pyplot as plt\n",
        "from skimage import io\n",
        "from tqdm import tqdm\n",
        "\n",
        "# https://matplotlib.org/api/image_api.html\n",
        "# https://matplotlib.org/users/image_tutorial.html\n",
        "#import matplotlib.image as mpimg\n",
        "#%matplotlib inline\n"
      ],
      "execution_count": 0,
      "outputs": []
    },
    {
      "cell_type": "markdown",
      "metadata": {
        "id": "V0tGN0AY84dj",
        "colab_type": "text"
      },
      "source": [
        "# The Foocars project \n",
        "\n",
        "It's located here: https://foocars.io\n",
        "\n",
        "The main working repository for the project is here: https://github.com/fubarlabs/foocars"
      ]
    },
    {
      "cell_type": "code",
      "metadata": {
        "id": "O40jGjx6do7Y",
        "colab_type": "code",
        "outputId": "240c3590-7acb-4208-f9dc-b33fb00795e8",
        "colab": {
          "base_uri": "https://localhost:8080/",
          "height": 69
        }
      },
      "source": [
        "%env USERNAME=lcipolina\n",
        "!echo $USERNAME\n",
        "!echo https://github.com/$USERNAME/foocars.git\n"
      ],
      "execution_count": 2,
      "outputs": [
        {
          "output_type": "stream",
          "text": [
            "env: USERNAME=lcipolina\n",
            "lcipolina\n",
            "https://github.com/lcipolina/foocars.git\n"
          ],
          "name": "stdout"
        }
      ]
    },
    {
      "cell_type": "code",
      "metadata": {
        "id": "JUMSIJwy9KB1",
        "colab_type": "code",
        "outputId": "fa8271ac-ab92-4419-8a42-b680474f05cd",
        "colab": {
          "base_uri": "https://localhost:8080/",
          "height": 104
        }
      },
      "source": [
        "# Create a Fork of the project in GitHub\n",
        "# Clone your Fork of the project\n",
        "!git clone https://github.com/$USERNAME/foocars.git"
      ],
      "execution_count": 3,
      "outputs": [
        {
          "output_type": "stream",
          "text": [
            "Cloning into 'foocars'...\n",
            "remote: Enumerating objects: 4071, done.\u001b[K\n",
            "remote: Total 4071 (delta 0), reused 0 (delta 0), pack-reused 4071\u001b[K\n",
            "Receiving objects: 100% (4071/4071), 160.70 MiB | 28.24 MiB/s, done.\n",
            "Resolving deltas: 100% (2273/2273), done.\n"
          ],
          "name": "stdout"
        }
      ]
    },
    {
      "cell_type": "code",
      "metadata": {
        "id": "5n2KtTT19Uwb",
        "colab_type": "code",
        "outputId": "bebcd716-73ac-4bcd-9248-bd51ea94779c",
        "colab": {
          "base_uri": "https://localhost:8080/",
          "height": 69
        }
      },
      "source": [
        "!ls"
      ],
      "execution_count": 9,
      "outputs": [
        {
          "output_type": "stream",
          "text": [
            "cars\t\t  installation.md  schematics\t   training\n",
            "Dockerfile-car\t  Pipfile\t   setuppython.sh  utilities\n",
            "Dockerfile-train  README.md\t   tests\n"
          ],
          "name": "stdout"
        }
      ]
    },
    {
      "cell_type": "code",
      "metadata": {
        "id": "B53ESA5-9b6A",
        "colab_type": "code",
        "outputId": "03e9c7f7-ca01-4cd5-c1e5-594d39507a32",
        "colab": {
          "base_uri": "https://localhost:8080/",
          "height": 52
        }
      },
      "source": [
        "#we will install pipenv in foocars directory\n",
        "%cd foocars"
      ],
      "execution_count": 7,
      "outputs": [
        {
          "output_type": "stream",
          "text": [
            "[Errno 2] No such file or directory: 'foocars'\n",
            "/content/foocars\n"
          ],
          "name": "stdout"
        }
      ]
    },
    {
      "cell_type": "code",
      "metadata": {
        "id": "ir42Fo1ugl4L",
        "colab_type": "code",
        "outputId": "46436298-3d44-4209-ac63-f3a8d0d674c7",
        "colab": {
          "base_uri": "https://localhost:8080/",
          "height": 69
        }
      },
      "source": [
        "!ls\n"
      ],
      "execution_count": 8,
      "outputs": [
        {
          "output_type": "stream",
          "text": [
            "cars\t\t  installation.md  schematics\t   training\n",
            "Dockerfile-car\t  Pipfile\t   setuppython.sh  utilities\n",
            "Dockerfile-train  README.md\t   tests\n"
          ],
          "name": "stdout"
        }
      ]
    },
    {
      "cell_type": "code",
      "metadata": {
        "id": "YJ1NzgqW9ihz",
        "colab_type": "code",
        "outputId": "1f21849c-8219-4c88-cce6-f26577d4f709",
        "colab": {
          "base_uri": "https://localhost:8080/",
          "height": 263
        }
      },
      "source": [
        "#install pipenv in \"foocars\" directory\n",
        "!pip install pipenv"
      ],
      "execution_count": 10,
      "outputs": [
        {
          "output_type": "stream",
          "text": [
            "Collecting pipenv\n",
            "\u001b[?25l  Downloading https://files.pythonhosted.org/packages/13/b4/3ffa55f77161cff9a5220f162670f7c5eb00df52e00939e203f601b0f579/pipenv-2018.11.26-py3-none-any.whl (5.2MB)\n",
            "\u001b[K     |████████████████████████████████| 5.2MB 9.3MB/s \n",
            "\u001b[?25hCollecting virtualenv (from pipenv)\n",
            "\u001b[?25l  Downloading https://files.pythonhosted.org/packages/4f/ba/6f9315180501d5ac3e707f19fcb1764c26cc6a9a31af05778f7c2383eadb/virtualenv-16.5.0-py2.py3-none-any.whl (2.0MB)\n",
            "\u001b[K     |████████████████████████████████| 2.0MB 56.6MB/s \n",
            "\u001b[?25hRequirement already satisfied: certifi in /usr/local/lib/python3.6/dist-packages (from pipenv) (2019.3.9)\n",
            "Collecting virtualenv-clone>=0.2.5 (from pipenv)\n",
            "  Downloading https://files.pythonhosted.org/packages/ba/f8/50c2b7dbc99e05fce5e5b9d9a31f37c988c99acd4e8dedd720b7b8d4011d/virtualenv_clone-0.5.3-py2.py3-none-any.whl\n",
            "Requirement already satisfied: setuptools>=36.2.1 in /usr/local/lib/python3.6/dist-packages (from pipenv) (41.0.1)\n",
            "Requirement already satisfied: pip>=9.0.1 in /usr/local/lib/python3.6/dist-packages (from pipenv) (19.1.1)\n",
            "Installing collected packages: virtualenv, virtualenv-clone, pipenv\n",
            "Successfully installed pipenv-2018.11.26 virtualenv-16.5.0 virtualenv-clone-0.5.3\n"
          ],
          "name": "stdout"
        }
      ]
    },
    {
      "cell_type": "code",
      "metadata": {
        "id": "9aK-nROT9tBC",
        "colab_type": "code",
        "outputId": "bfd17ea6-8b82-4693-d9fa-eb89b6a5a838",
        "colab": {
          "base_uri": "https://localhost:8080/",
          "height": 453
        }
      },
      "source": [
        "#Create virtual environment in the folder we are in \n",
        "!pipenv install "
      ],
      "execution_count": 11,
      "outputs": [
        {
          "output_type": "stream",
          "text": [
            "\u001b[39m\u001b[1mCreating a virtualenv for this project…\u001b[39m\u001b[22m\n",
            "Pipfile: \u001b[31m\u001b[1m/content/foocars/Pipfile\u001b[39m\u001b[22m\n",
            "\u001b[39m\u001b[1mUsing\u001b[39m\u001b[22m \u001b[31m\u001b[1m/usr/local/bin/python\u001b[39m\u001b[22m \u001b[32m\u001b[22m(3.6.7)\u001b[39m\u001b[22m \u001b[39m\u001b[1mto create virtualenv…\u001b[39m\u001b[22m\n",
            "⠹\u001b[0m Creating virtual environment...\u001b[K\u001b[34m\u001b[22mUsing base prefix '/usr'\n",
            "New python executable in /root/.local/share/virtualenvs/foocars--MKvUarz/bin/python3\n",
            "Also creating executable in /root/.local/share/virtualenvs/foocars--MKvUarz/bin/python\n",
            "Installing setuptools, pip, wheel...\n",
            "done.\n",
            "Running virtualenv with interpreter /usr/local/bin/python\n",
            "\u001b[39m\u001b[22m\n",
            "\u001b[K\u001b[?25h\u001b[32m\u001b[22m✔ Successfully created virtual environment!\u001b[39m\u001b[22m\u001b[0m \n",
            "Virtualenv location: \u001b[32m\u001b[22m/root/.local/share/virtualenvs/foocars--MKvUarz\u001b[39m\u001b[22m\n",
            "\u001b[31m\u001b[1mWarning\u001b[39m\u001b[22m: Your Pipfile requires \u001b[39m\u001b[1mpython_version\u001b[39m\u001b[22m \u001b[34m\u001b[22m3.*\u001b[39m\u001b[22m, but you are using \u001b[34m\u001b[22m3.6.7\u001b[39m\u001b[22m (\u001b[32m\u001b[22m/root/.local/share/v/f/bin/python\u001b[39m\u001b[22m).\n",
            "  \u001b[32m\u001b[22m$ pipenv --rm\u001b[39m\u001b[22m and rebuilding the virtual environment may resolve the issue.\n",
            "  \u001b[31m\u001b[22m$ pipenv check\u001b[39m\u001b[22m will surely fail.\n",
            "\u001b[39m\u001b[1mPipfile.lock not found, creating…\u001b[39m\u001b[22m\n",
            "\u001b[39m\u001b[22mLocking\u001b[39m\u001b[22m \u001b[31m\u001b[22m[dev-packages]\u001b[39m\u001b[22m \u001b[39m\u001b[22mdependencies…\u001b[39m\u001b[22m\n",
            "\u001b[39m\u001b[22mLocking\u001b[39m\u001b[22m \u001b[31m\u001b[22m[packages]\u001b[39m\u001b[22m \u001b[39m\u001b[22mdependencies…\u001b[39m\u001b[22m\n",
            "\u001b[K\u001b[?25h\u001b[32m\u001b[22m✔ Success!\u001b[39m\u001b[22m\u001b[0m \n",
            "\u001b[39m\u001b[1mUpdated Pipfile.lock (3c28c2)!\u001b[39m\u001b[22m\n",
            "\u001b[39m\u001b[1mInstalling dependencies from Pipfile.lock (3c28c2)…\u001b[39m\u001b[22m\n",
            "  🐍   \u001b[32m\u001b[1m▉\u001b[39m\u001b[22m\u001b[32m\u001b[1m▉\u001b[39m\u001b[22m\u001b[32m\u001b[1m▉\u001b[39m\u001b[22m\u001b[32m\u001b[1m▉\u001b[39m\u001b[22m\u001b[32m\u001b[1m▉\u001b[39m\u001b[22m\u001b[32m\u001b[1m▉\u001b[39m\u001b[22m\u001b[32m\u001b[1m▉\u001b[39m\u001b[22m\u001b[32m\u001b[1m▉\u001b[39m\u001b[22m\u001b[32m\u001b[1m▉\u001b[39m\u001b[22m\u001b[32m\u001b[1m▉\u001b[39m\u001b[22m\u001b[32m\u001b[1m▉\u001b[39m\u001b[22m\u001b[32m\u001b[1m▉\u001b[39m\u001b[22m\u001b[32m\u001b[1m▉\u001b[39m\u001b[22m\u001b[32m\u001b[1m▉\u001b[39m\u001b[22m\u001b[32m\u001b[1m▉\u001b[39m\u001b[22m\u001b[32m\u001b[1m▉\u001b[39m\u001b[22m\u001b[32m\u001b[1m▉\u001b[39m\u001b[22m\u001b[32m\u001b[1m▉\u001b[39m\u001b[22m\u001b[32m\u001b[1m▉\u001b[39m\u001b[22m\u001b[32m\u001b[1m▉\u001b[39m\u001b[22m\u001b[32m\u001b[1m▉\u001b[39m\u001b[22m\u001b[32m\u001b[1m▉\u001b[39m\u001b[22m\u001b[32m\u001b[1m▉\u001b[39m\u001b[22m\u001b[32m\u001b[1m▉\u001b[39m\u001b[22m\u001b[32m\u001b[1m▉\u001b[39m\u001b[22m\u001b[32m\u001b[1m▉\u001b[39m\u001b[22m\u001b[32m\u001b[1m▉\u001b[39m\u001b[22m\u001b[32m\u001b[1m▉\u001b[39m\u001b[22m\u001b[32m\u001b[1m▉\u001b[39m\u001b[22m\u001b[32m\u001b[1m▉\u001b[39m\u001b[22m\u001b[32m\u001b[1m▉\u001b[39m\u001b[22m\u001b[32m\u001b[1m▉\u001b[39m\u001b[22m 27/27 — \u001b[30m\u001b[22m00:00:11\u001b[39m\u001b[22m\n",
            "To activate this project's virtualenv, run \u001b[31m\u001b[22mpipenv shell\u001b[39m\u001b[22m.\n",
            "Alternatively, run a command inside the virtualenv with \u001b[31m\u001b[22mpipenv run\u001b[39m\u001b[22m.\n",
            "\u001b[0m"
          ],
          "name": "stdout"
        }
      ]
    },
    {
      "cell_type": "code",
      "metadata": {
        "id": "4zJCnLtRw94V",
        "colab_type": "code",
        "outputId": "8ac09eff-e42f-4314-9f29-b3a5fbcb7959",
        "colab": {
          "base_uri": "https://localhost:8080/",
          "height": 69
        }
      },
      "source": [
        "!ls"
      ],
      "execution_count": 12,
      "outputs": [
        {
          "output_type": "stream",
          "text": [
            "cars\t\t  installation.md  README.md\t   tests\n",
            "Dockerfile-car\t  Pipfile\t   schematics\t   training\n",
            "Dockerfile-train  Pipfile.lock\t   setuppython.sh  utilities\n"
          ],
          "name": "stdout"
        }
      ]
    },
    {
      "cell_type": "code",
      "metadata": {
        "id": "lHRxo-Nd_WIj",
        "colab_type": "code",
        "outputId": "7dd958f4-2c6e-459a-ef33-a9a371563539",
        "colab": {
          "base_uri": "https://localhost:8080/",
          "height": 55
        }
      },
      "source": [
        "# Load data from My Drive - TEST DO NOT USE\n",
        "'''\n",
        "\n",
        "# Load the Drive helper and mount\n",
        "from google.colab import drive\n",
        "\n",
        "# This will prompt for authorization.\n",
        "drive.mount('/content/drive')\n",
        "\n",
        "\n",
        "# After executing the cell above, Drive\n",
        "# files will be present in \"/content/drive/My Drive\".\n",
        "!ls \"/content/drive/My Drive\"\n",
        "\n",
        "'''"
      ],
      "execution_count": 0,
      "outputs": [
        {
          "output_type": "execute_result",
          "data": {
            "text/plain": [
              "'\\n\\n# Load the Drive helper and mount\\nfrom google.colab import drive\\n\\n# This will prompt for authorization.\\ndrive.mount(\\'/content/drive\\')\\n\\n\\n# After executing the cell above, Drive\\n# files will be present in \"/content/drive/My Drive\".\\n!ls \"/content/drive/My Drive\"\\n\\n'"
            ]
          },
          "metadata": {
            "tags": []
          },
          "execution_count": 18
        }
      ]
    },
    {
      "cell_type": "code",
      "metadata": {
        "id": "b5mwdLnDCJWb",
        "colab_type": "code",
        "outputId": "418cbd1f-a125-4bf2-d978-73ef5776603a",
        "colab": {
          "base_uri": "https://localhost:8080/",
          "height": 16848
        }
      },
      "source": [
        "# Load data from a shared folder in Google Drive\n",
        "\n",
        "# Tutorial: https://towardsdatascience.com/3-ways-to-load-csv-files-into-colab-7c14fcbdcb92\n",
        "\n",
        "import pdb #to debug\n",
        "import tarfile\n",
        "\n",
        "fileID='https://drive.google.com/open?id=1jtW5aSS6dj1DNmxr87iHf1bzkBB1A3Km' # The shareable link to steelroses data\n",
        "file = 'steelroses.collected.tar.gz'\n",
        "\n",
        "# Code to read csv file into Colaboratory:\n",
        "!pip install -U -q PyDrive\n",
        "from pydrive.auth  import GoogleAuth\n",
        "from pydrive.drive import GoogleDrive\n",
        "from google.colab  import auth\n",
        "from oauth2client.client import GoogleCredentials\n",
        "# Authenticate and create the PyDrive client.\n",
        "auth.authenticate_user()\n",
        "gauth             = GoogleAuth()\n",
        "gauth.credentials = GoogleCredentials.get_application_default()\n",
        "drive             = GoogleDrive(gauth)\n",
        "link              = fileID\n",
        "fluff, id         = link.split('=')\n",
        "print (id) # Verify that you have everything after '='\n",
        "downloaded        = drive.CreateFile({'id':id}) \n",
        "\n",
        "downloaded.GetContentFile('steelroses.collected.tar.gz') \n",
        "\n",
        "#tar = tarfile.open(file , \"r:gz\")\n",
        "#Uncompress file\n",
        "!tar xvzf steelroses.collected.tar.gz\n",
        "\n",
        "\n",
        "\n"
      ],
      "execution_count": 31,
      "outputs": [
        {
          "output_type": "stream",
          "text": [
            "1jtW5aSS6dj1DNmxr87iHf1bzkBB1A3Km\n",
            "collected/\n",
            "collected/IMU_2018-12-06_13-00-23.npz\n",
            "collected/imgs_2018-12-06_13-02-18.npz\n",
            "collected/IMU_2018-12-06_15-21-53.npz\n",
            "collected/IMU_2018-12-06_13-32-03.npz\n",
            "collected/commands_2018-12-15_12-57-41.npz\n",
            "collected/commands_2018-12-06_15-37-01.npz\n",
            "collected/IMU_2018-12-06_13-33-53.npz\n",
            "collected/IMU_2018-12-06_13-33-43.npz\n",
            "collected/imgs_2018-12-06_13-00-03.npz\n",
            "collected/commands_2018-12-06_15-41-57.npz\n",
            "collected/commands_2018-12-06_13-01-03.npz\n",
            "collected/commands_2018-12-06_15-21-03.npz\n",
            "collected/IMU_2018-12-06_15-50-34.npz\n",
            "collected/IMU_2018-12-06_15-37-21.npz\n",
            "collected/IMU_2018-12-06_13-31-53.npz\n",
            "collected/commands_2018-12-06_13-30-38.npz\n",
            "collected/IMU_2018-12-15_12-58-31.npz\n",
            "collected/IMU_2018-12-06_13-30-33.npz\n",
            "collected/commands_2018-12-15_13-52-21.npz\n",
            "collected/IMU_2018-12-06_13-00-18.npz\n",
            "collected/imgs_2018-12-06_13-31-48.npz\n",
            "collected/IMU_2018-12-06_15-50-44.npz\n",
            "collected/commands_2018-12-06_15-38-26.npz\n",
            "collected/imgs_2018-12-06_15-29-46.npz\n",
            "collected/commands_2018-12-15_12-57-26.npz\n",
            "collected/IMU_2018-12-06_13-01-33.npz\n",
            "collected/IMU_2018-12-06_13-34-23.npz\n",
            "collected/IMU_2018-12-06_15-29-26.npz\n",
            "collected/IMU_2018-12-06_13-35-03.npz\n",
            "collected/commands_2018-12-06_15-36-21.npz\n",
            "collected/commands_2018-12-06_15-38-21.npz\n",
            "collected/IMU_2018-12-15_11-37-39.npz\n",
            "collected/imgs_2018-12-06_15-39-36.npz\n",
            "collected/imgs_2019-02-25_16-37-23.npz\n",
            "collected/IMU_2018-12-06_15-29-51.npz\n",
            "collected/commands_2018-12-06_15-39-51.npz\n",
            "collected/imgs_2018-12-06_13-31-18.npz\n",
            "collected/imgs_2018-12-06_15-38-11.npz\n",
            "collected/commands_2018-12-06_13-30-28.npz\n",
            "collected/IMU_2018-12-06_15-38-06.npz\n",
            "collected/commands_2018-12-06_13-00-03.npz\n",
            "collected/IMU_2018-12-06_15-22-15.npz\n",
            "collected/imgs_2018-12-06_13-02-03.npz\n",
            "collected/imgs_2018-12-06_13-33-33.npz\n",
            "collected/imgs_2018-12-06_15-22-35.npz\n",
            "collected/imgs_2018-12-06_15-30-06.npz\n",
            "collected/imgs_2018-12-06_13-34-03.npz\n",
            "collected/commands_2019-02-25_16-36-49.npz\n",
            "collected/IMU_2019-02-25_16-37-38.npz\n",
            "collected/imgs_2018-12-15_12-58-21.npz\n",
            "collected/commands_2018-12-06_15-40-27.npz\n",
            "collected/IMU_2018-12-06_13-34-33.npz\n",
            "collected/IMU_2018-12-06_13-32-28.npz\n",
            "collected/IMU_2018-12-06_13-02-08.npz\n",
            "collected/IMU_2018-12-06_15-22-20.npz\n",
            "collected/imgs_2018-12-06_15-42-42.npz\n",
            "collected/imgs_2019-02-25_16-37-58.npz\n",
            "collected/commands_2019-02-25_16-38-18.npz\n",
            "collected/imgs_2018-12-06_13-00-08.npz\n",
            "collected/commands_2019-02-25_16-38-38.npz\n",
            "collected/IMU_2018-12-06_15-36-21.npz\n",
            "collected/imgs_2018-12-06_15-43-18.npz\n",
            "collected/IMU_2018-12-06_15-43-15.npz\n",
            "collected/IMU_2018-12-15_12-58-26.npz\n",
            "collected/IMU_2018-12-06_13-30-53.npz\n",
            "collected/IMU_2018-12-06_15-28-16.npz\n",
            "collected/commands_2018-12-06_13-00-53.npz\n",
            "collected/commands_2018-12-06_13-01-43.npz\n",
            "collected/IMU_2018-12-06_15-21-48.npz\n",
            "collected/imgs_2018-12-15_12-57-26.npz\n",
            "collected/commands_2018-12-06_15-29-16.npz\n",
            "collected/imgs_2018-12-06_15-36-21.npz\n",
            "collected/imgs_2018-12-15_12-58-06.npz\n",
            "collected/imgs_2018-12-06_15-22-20.npz\n",
            "collected/imgs_2018-12-06_15-40-42.npz\n",
            "collected/IMU_2018-12-06_15-49-54.npz\n",
            "collected/commands_2018-12-06_13-01-53.npz\n",
            "collected/imgs_2018-12-06_15-37-51.npz\n",
            "collected/commands_2018-12-06_15-43-10.npz\n",
            "collected/commands_2018-12-15_12-58-06.npz\n",
            "collected/IMU_2018-12-06_15-41-57.npz\n",
            "collected/IMU_2018-12-06_13-01-13.npz\n",
            "collected/commands_2018-12-06_15-37-06.npz\n",
            "collected/imgs_2018-12-06_15-21-28.npz\n",
            "collected/imgs_2018-12-06_15-23-30.npz\n",
            "collected/IMU_2018-12-06_15-27-31.npz\n",
            "collected/commands_2018-12-06_15-38-51.npz\n",
            "collected/imgs_2018-12-06_15-37-36.npz\n",
            "collected/IMU_2018-12-06_15-27-51.npz\n",
            "collected/imgs_2018-12-06_13-00-13.npz\n",
            "collected/imgs_2018-12-06_15-29-56.npz\n",
            "collected/imgs_2018-12-06_15-37-21.npz\n",
            "collected/commands_2018-12-15_11-51-26.npz\n",
            "collected/commands_2018-12-06_15-28-41.npz\n",
            "collected/commands_2018-12-15_12-58-36.npz\n",
            "collected/imgs_2019-02-25_16-37-43.npz\n",
            "collected/IMU_2018-12-06_12-54-17.npz\n",
            "collected/imgs_2018-12-06_15-43-05.npz\n",
            "collected/imgs_2018-12-06_13-32-13.npz\n",
            "collected/IMU_2018-12-06_13-02-18.npz\n",
            "collected/IMU_2018-12-15_13-52-21.npz\n",
            "collected/imgs_2018-12-06_15-38-26.npz\n",
            "collected/commands_2018-12-06_15-50-59.npz\n",
            "collected/IMU_2018-12-06_15-40-27.npz\n",
            "collected/imgs_2018-12-06_15-29-26.npz\n",
            "collected/commands_2018-12-06_13-34-53.npz\n",
            "collected/IMU_2018-12-15_12-58-01.npz\n",
            "collected/imgs_2018-12-06_15-21-03.npz\n",
            "collected/IMU_2018-12-06_15-28-06.npz\n",
            "collected/IMU_2018-12-06_15-23-00.npz\n",
            "collected/IMU_2018-12-06_15-50-49.npz\n",
            "collected/commands_2018-12-06_13-31-23.npz\n",
            "collected/imgs_2018-12-06_15-23-15.npz\n",
            "collected/imgs_2018-12-06_15-41-57.npz\n",
            "collected/commands_2018-12-15_12-58-11.npz\n",
            "collected/IMU_2018-12-06_15-22-30.npz\n",
            "collected/imgs_2018-12-06_12-59-43.npz\n",
            "collected/commands_2018-12-06_15-41-47.npz\n",
            "collected/IMU_2018-12-06_13-32-48.npz\n",
            "collected/commands_2018-12-06_15-42-07.npz\n",
            "collected/IMU_2018-12-06_13-33-58.npz\n",
            "collected/IMU_2018-12-06_15-43-18.npz\n",
            "collected/IMU_2019-02-25_16-36-09.npz\n",
            "collected/imgs_2018-12-06_13-00-33.npz\n",
            "collected/imgs_2018-12-06_13-01-18.npz\n",
            "collected/imgs_2018-12-06_15-27-41.npz\n",
            "collected/IMU_2018-12-06_15-30-16.npz\n",
            "collected/commands_2018-12-15_11-37-39.npz\n",
            "collected/commands_2018-12-06_13-32-28.npz\n",
            "collected/commands_2018-12-06_13-34-33.npz\n",
            "collected/imgs_2018-12-06_13-31-33.npz\n",
            "collected/IMU_2018-12-06_15-41-32.npz\n",
            "collected/IMU_2018-12-06_15-21-38.npz\n",
            "collected/IMU_2018-12-06_15-23-15.npz\n",
            "collected/IMU_2018-12-06_15-21-43.npz\n",
            "collected/IMU_2018-12-06_14-58-51.npz\n",
            "collected/IMU_2018-12-06_15-38-16.npz\n",
            "collected/imgs_2018-12-06_15-37-31.npz\n",
            "collected/commands_2018-12-06_15-22-40.npz\n",
            "collected/imgs_2019-02-25_16-36-19.npz\n",
            "collected/IMU_2018-12-06_15-39-56.npz\n",
            "collected/imgs_2018-12-06_14-58-51.npz\n",
            "collected/IMU_2018-12-15_11-28-20.npz\n",
            "collected/commands_2018-12-06_15-28-56.npz\n",
            "collected/IMU_2018-12-06_13-31-48.npz\n",
            "collected/commands_2018-12-06_15-22-35.npz\n",
            "collected/commands_2018-12-06_15-50-39.npz\n",
            "collected/commands_2018-12-06_15-41-37.npz\n",
            "collected/IMU_2018-12-06_15-23-35.npz\n",
            "collected/imgs_2018-12-06_15-39-26.npz\n",
            "collected/IMU_2018-12-06_15-42-02.npz\n",
            "collected/imgs_2018-12-06_15-40-27.npz\n",
            "collected/IMU_2018-12-06_15-37-56.npz\n",
            "collected/commands_2018-12-06_13-33-48.npz\n",
            "collected/imgs_2018-12-06_15-50-29.npz\n",
            "collected/commands_2018-12-06_15-50-19.npz\n",
            "collected/imgs_2018-12-06_13-34-23.npz\n",
            "collected/imgs_2019-02-25_16-36-34.npz\n",
            "collected/commands_2018-12-06_13-31-28.npz\n",
            "collected/imgs_2018-12-06_13-33-13.npz\n",
            "collected/commands_2018-12-06_15-39-41.npz\n",
            "collected/commands_2019-02-25_16-37-09.npz\n",
            "collected/IMU_2018-12-06_13-00-33.npz\n",
            "collected/imgs_2018-12-06_15-50-04.npz\n",
            "collected/imgs_2019-02-25_16-37-14.npz\n",
            "collected/IMU_2018-12-06_15-22-35.npz\n",
            "collected/commands_2018-12-06_15-43-18.npz\n",
            "collected/IMU_2019-02-25_16-36-49.npz\n",
            "collected/imgs_2018-12-06_15-42-07.npz\n",
            "collected/IMU_2018-12-06_13-33-38.npz\n",
            "collected/commands_2018-12-06_15-37-51.npz\n",
            "collected/commands_2018-12-06_15-22-25.npz\n",
            "collected/IMU_2019-02-25_16-38-13.npz\n",
            "collected/commands_2018-12-06_15-50-34.npz\n",
            "collected/IMU_2018-12-06_15-23-20.npz\n",
            "collected/commands_2018-12-06_15-38-41.npz\n",
            "collected/IMU_2019-02-25_16-37-19.npz\n",
            "collected/commands_2018-12-06_15-28-31.npz\n",
            "collected/imgs_2018-12-06_13-32-03.npz\n",
            "collected/commands_2018-12-06_15-50-09.npz\n",
            "collected/commands_2018-12-06_13-01-13.npz\n",
            "collected/commands_2018-12-06_15-22-20.npz\n",
            "collected/imgs_2019-02-25_16-36-14.npz\n",
            "collected/commands_2018-12-06_15-39-46.npz\n",
            "collected/IMU_2018-12-06_15-42-27.npz\n",
            "collected/IMU_2018-12-06_15-42-22.npz\n",
            "collected/IMU_2018-12-15_11-51-21.npz\n",
            "collected/imgs_2019-02-25_16-38-18.npz\n",
            "collected/commands_2018-12-06_15-29-41.npz\n",
            "collected/IMU_2018-12-06_13-00-53.npz\n",
            "collected/commands_2018-12-06_15-38-56.npz\n",
            "collected/imgs_2018-12-06_15-36-28.npz\n",
            "collected/imgs_2018-12-06_15-41-07.npz\n",
            "collected/IMU_2018-12-15_12-57-56.npz\n",
            "collected/imgs_2018-12-15_11-28-15.npz\n",
            "collected/IMU_2018-12-06_15-37-26.npz\n",
            "collected/IMU_2018-12-06_15-28-36.npz\n",
            "collected/commands_2018-12-15_12-59-01.npz\n",
            "collected/imgs_2018-12-06_15-39-21.npz\n",
            "collected/imgs_2018-12-06_15-50-09.npz\n",
            "collected/imgs_2018-12-06_15-21-08.npz\n",
            "collected/IMU_2018-12-15_12-58-16.npz\n",
            "collected/imgs_2018-12-06_15-23-00.npz\n",
            "collected/IMU_2018-12-06_15-29-16.npz\n",
            "collected/IMU_2019-02-25_16-36-19.npz\n",
            "collected/imgs_2018-12-06_13-33-08.npz\n",
            "collected/commands_2018-12-06_13-01-28.npz\n",
            "collected/IMU_2018-12-15_12-58-46.npz\n",
            "collected/imgs_2018-12-06_15-28-01.npz\n",
            "collected/commands_2018-12-06_13-02-03.npz\n",
            "collected/IMU_2018-12-15_12-50-30.npz\n",
            "collected/commands_2018-12-06_15-36-46.npz\n",
            "collected/commands_2018-12-06_13-02-08.npz\n",
            "collected/commands_2018-12-06_15-23-00.npz\n",
            "collected/IMU_2018-12-15_11-26-03.npz\n",
            "collected/imgs_2018-12-06_13-33-43.npz\n",
            "collected/IMU_2018-12-06_13-31-58.npz\n",
            "collected/IMU_2018-12-15_12-58-56.npz\n",
            "collected/imgs_2018-12-06_13-34-43.npz\n",
            "collected/commands_2018-12-06_13-33-33.npz\n",
            "collected/commands_2019-02-25_16-36-39.npz\n",
            "collected/imgs_2018-12-06_15-42-27.npz\n",
            "collected/IMU_2018-12-06_15-42-46.npz\n",
            "collected/commands_2018-12-06_15-38-16.npz\n",
            "collected/imgs_2019-02-25_16-37-48.npz\n",
            "collected/commands_2018-12-06_15-21-08.npz\n",
            "collected/imgs_2018-12-06_13-34-48.npz\n",
            "collected/imgs_2018-12-06_13-34-38.npz\n",
            "collected/imgs_2018-12-06_13-01-38.npz\n",
            "collected/commands_2018-12-15_12-57-56.npz\n",
            "collected/commands_2018-12-06_12-59-48.npz\n",
            "collected/imgs_2018-12-06_13-32-08.npz\n",
            "collected/commands_2018-12-06_13-35-08.npz\n",
            "collected/imgs_2018-12-06_15-21-23.npz\n",
            "collected/IMU_2018-12-06_13-33-33.npz\n",
            "collected/IMU_2018-12-06_13-32-33.npz\n",
            "collected/IMU_2018-12-06_15-50-54.npz\n",
            "collected/IMU_2018-12-06_13-32-18.npz\n",
            "collected/imgs_2018-12-06_15-49-59.npz\n",
            "collected/commands_2018-12-06_13-31-08.npz\n",
            "collected/IMU_2018-12-06_15-29-11.npz\n",
            "collected/commands_2018-12-06_13-01-38.npz\n",
            "collected/commands_2019-02-25_16-38-33.npz\n",
            "collected/commands_2018-12-06_15-36-56.npz\n",
            "collected/IMU_2018-12-06_15-37-01.npz\n",
            "collected/IMU_2018-12-06_13-31-23.npz\n",
            "collected/commands_2018-12-06_15-28-36.npz\n",
            "collected/IMU_2018-12-06_15-23-05.npz\n",
            "collected/IMU_2018-12-06_13-01-43.npz\n",
            "collected/IMU_2018-12-06_15-21-23.npz\n",
            "collected/commands_2019-02-25_16-36-44.npz\n",
            "collected/commands_2018-12-06_15-28-46.npz\n",
            "collected/IMU_2018-12-06_15-42-37.npz\n",
            "collected/commands_2018-12-06_15-40-52.npz\n",
            "collected/commands_2018-12-06_12-59-58.npz\n",
            "collected/commands_2019-02-25_16-37-19.npz\n",
            "collected/commands_2018-12-06_13-01-18.npz\n",
            "collected/imgs_2019-02-25_16-36-24.npz\n",
            "collected/imgs_2018-12-06_15-23-05.npz\n",
            "collected/imgs_2018-12-06_15-28-36.npz\n",
            "collected/IMU_2018-12-06_13-31-13.npz\n",
            "collected/imgs_2018-12-06_15-49-54.npz\n",
            "collected/commands_2018-12-06_15-42-46.npz\n",
            "collected/IMU_2018-12-06_15-29-36.npz\n",
            "collected/commands_2018-12-06_13-31-33.npz\n",
            "collected/imgs_2018-12-06_13-31-08.npz\n",
            "collected/commands_2018-12-06_15-30-06.npz\n",
            "collected/commands_2018-12-06_15-28-16.npz\n",
            "collected/imgs_2018-12-06_15-42-02.npz\n",
            "collected/imgs_2019-02-25_16-36-54.npz\n",
            "collected/imgs_2018-12-06_15-36-51.npz\n",
            "collected/IMU_2018-12-06_15-21-03.npz\n",
            "collected/IMU_2018-12-06_15-40-32.npz\n",
            "collected/IMU_2019-02-25_16-36-14.npz\n",
            "collected/imgs_2018-12-15_11-28-05.npz\n",
            "collected/IMU_2019-02-25_16-37-53.npz\n",
            "collected/IMU_2018-12-06_15-41-42.npz\n",
            "collected/imgs_2018-12-06_13-32-18.npz\n",
            "collected/IMU_2018-12-15_12-58-41.npz\n",
            "collected/IMU_2018-12-06_15-42-42.npz\n",
            "collected/commands_2018-12-06_15-49-54.npz\n",
            "collected/imgs_2018-12-06_15-36-16.npz\n",
            "collected/IMU_2018-12-06_15-39-51.npz\n",
            "collected/IMU_2018-12-06_15-36-28.npz\n",
            "collected/IMU_2018-12-06_13-30-43.npz\n",
            "collected/IMU_2018-12-06_15-22-25.npz\n",
            "collected/commands_2018-12-06_13-32-18.npz\n",
            "collected/IMU_2019-02-25_16-37-14.npz\n",
            "collected/commands_2018-12-06_15-40-32.npz\n",
            "collected/imgs_2018-12-15_12-57-51.npz\n",
            "collected/commands_2018-12-15_12-58-26.npz\n",
            "collected/commands_2018-12-06_13-34-08.npz\n",
            "collected/imgs_2018-12-06_15-50-19.npz\n",
            "collected/IMU_2018-12-06_13-00-38.npz\n",
            "collected/commands_2018-12-06_15-39-16.npz\n",
            "collected/IMU_2019-02-25_16-37-43.npz\n",
            "collected/IMU_2018-12-06_13-32-43.npz\n",
            "collected/IMU_2018-12-06_15-23-30.npz\n",
            "collected/commands_2018-12-06_12-59-38.npz\n",
            "collected/commands_2018-12-06_15-22-00.npz\n",
            "collected/imgs_2018-12-06_15-28-11.npz\n",
            "collected/imgs_2018-12-06_15-41-12.npz\n",
            "collected/commands_2018-12-06_15-40-05.npz\n",
            "collected/imgs_2018-12-06_15-27-46.npz\n",
            "collected/IMU_2018-12-06_15-29-06.npz\n",
            "collected/imgs_2018-12-06_15-40-37.npz\n",
            "collected/commands_2018-12-06_13-32-58.npz\n",
            "collected/commands_2018-12-06_15-42-32.npz\n",
            "collected/imgs_2018-12-06_15-42-32.npz\n",
            "collected/commands_2018-12-06_13-32-08.npz\n",
            "collected/commands_2018-12-06_15-42-37.npz\n",
            "collected/commands_2019-02-25_16-37-23.npz\n",
            "collected/commands_2018-12-06_15-39-26.npz\n",
            "collected/commands_2018-12-06_15-37-21.npz\n",
            "collected/imgs_2018-12-06_13-01-53.npz\n",
            "collected/IMU_2018-12-06_15-36-56.npz\n",
            "collected/IMU_2018-12-06_15-28-21.npz\n",
            "collected/imgs_2018-12-06_15-37-46.npz\n",
            "collected/commands_2018-12-06_13-34-58.npz\n",
            "collected/imgs_2018-12-06_15-38-56.npz\n",
            "collected/commands_2019-02-25_16-37-38.npz\n",
            "collected/imgs_2018-12-15_13-52-21.npz\n",
            "collected/imgs_2018-12-06_15-22-45.npz\n",
            "collected/IMU_2018-12-06_15-36-26.npz\n",
            "collected/commands_2018-12-06_13-33-58.npz\n",
            "collected/imgs_2018-12-06_15-37-26.npz\n",
            "collected/commands_2018-12-06_15-30-01.npz\n",
            "collected/imgs_2018-12-15_12-57-56.npz\n",
            "collected/IMU_2018-12-06_13-30-58.npz\n",
            "collected/commands_2018-12-06_13-34-13.npz\n",
            "collected/imgs_2018-12-15_12-58-51.npz\n",
            "collected/IMU_2018-12-06_15-29-01.npz\n",
            "collected/imgs_2018-12-06_15-50-34.npz\n",
            "collected/commands_2018-12-06_12-59-53.npz\n",
            "collected/IMU_2018-12-06_15-22-05.npz\n",
            "collected/IMU_2018-12-15_12-57-51.npz\n",
            "collected/IMU_2018-12-06_13-00-43.npz\n",
            "collected/commands_2018-12-06_15-23-10.npz\n",
            "collected/imgs_2018-12-06_15-43-10.npz\n",
            "collected/IMU_2018-12-15_12-58-06.npz\n",
            "collected/IMU_2018-12-06_13-32-13.npz\n",
            "collected/commands_2019-02-25_16-38-23.npz\n",
            "collected/imgs_2018-12-15_12-58-56.npz\n",
            "collected/IMU_2018-12-06_15-50-29.npz\n",
            "collected/IMU_2018-12-15_12-57-26.npz\n",
            "collected/imgs_2018-12-06_13-02-08.npz\n",
            "collected/imgs_2018-12-06_13-32-43.npz\n",
            "collected/imgs_2018-12-06_15-50-24.npz\n",
            "collected/IMU_2018-12-06_12-59-38.npz\n",
            "collected/imgs_2018-12-06_15-39-16.npz\n",
            "collected/imgs_2019-02-25_16-38-23.npz\n",
            "collected/commands_2019-02-25_16-36-59.npz\n",
            "collected/IMU_2018-12-06_15-41-02.npz\n",
            "collected/IMU_2018-12-06_15-40-47.npz\n",
            "collected/commands_2018-12-06_13-31-13.npz\n",
            "collected/commands_2018-12-06_12-54-17.npz\n",
            "collected/imgs_2019-02-25_16-36-44.npz\n",
            "collected/commands_2019-02-25_16-37-04.npz\n",
            "collected/IMU_2019-02-25_16-36-54.npz\n",
            "collected/IMU_2018-12-15_11-28-15.npz\n",
            "collected/commands_2018-12-15_12-57-46.npz\n",
            "collected/IMU_2018-12-06_15-27-56.npz\n",
            "collected/commands_2018-12-06_15-40-47.npz\n",
            "collected/IMU_2018-12-06_13-34-13.npz\n",
            "collected/IMU_2018-12-06_13-33-03.npz\n",
            "collected/commands_2018-12-06_15-27-31.npz\n",
            "collected/imgs_2018-12-06_15-41-32.npz\n",
            "collected/commands_2018-12-15_12-58-01.npz\n",
            "collected/imgs_2019-02-25_16-37-53.npz\n",
            "collected/imgs_2018-12-15_11-51-21.npz\n",
            "collected/IMU_2018-12-06_15-41-47.npz\n",
            "collected/IMU_2018-12-06_15-36-46.npz\n",
            "collected/commands_2018-12-06_15-23-25.npz\n",
            "collected/commands_2018-12-06_15-28-26.npz\n",
            "collected/commands_2018-12-15_12-34-06.npz\n",
            "collected/imgs_2018-12-06_15-41-27.npz\n",
            "collected/commands_2018-12-06_15-29-26.npz\n",
            "collected/IMU_2018-12-06_15-37-41.npz\n",
            "collected/IMU_2019-02-25_16-37-48.npz\n",
            "collected/imgs_2018-12-06_15-28-51.npz\n",
            "collected/imgs_2018-12-06_15-29-06.npz\n",
            "collected/imgs_2018-12-06_15-28-31.npz\n",
            "collected/imgs_2018-12-06_15-37-56.npz\n",
            "collected/IMU_2018-12-06_13-31-43.npz\n",
            "collected/commands_2019-02-25_16-37-58.npz\n",
            "collected/commands_2018-12-06_15-40-57.npz\n",
            "collected/IMU_2018-12-15_11-28-10.npz\n",
            "collected/commands_2018-12-06_15-50-54.npz\n",
            "collected/imgs_2018-12-15_11-28-10.npz\n",
            "collected/imgs_2018-12-06_15-40-01.npz\n",
            "collected/commands_2019-02-25_16-37-29.npz\n",
            "collected/imgs_2018-12-06_15-39-56.npz\n",
            "collected/commands_2018-12-06_15-41-32.npz\n",
            "collected/imgs_2018-12-06_15-29-41.npz\n",
            "collected/imgs_2018-12-06_13-34-18.npz\n",
            "collected/commands_2018-12-06_13-32-13.npz\n",
            "collected/IMU_2018-12-06_13-30-38.npz\n",
            "collected/IMU_2018-12-06_13-33-18.npz\n",
            "collected/commands_2018-12-06_15-41-17.npz\n",
            "collected/commands_2018-12-06_15-28-11.npz\n",
            "collected/imgs_2018-12-06_15-39-46.npz\n",
            "collected/commands_2018-12-06_13-00-18.npz\n",
            "collected/commands_2018-12-15_11-28-20.npz\n",
            "collected/commands_2018-12-06_15-50-14.npz\n",
            "collected/imgs_2018-12-06_15-23-25.npz\n",
            "collected/commands_2018-12-06_15-21-48.npz\n",
            "collected/imgs_2018-12-06_13-30-38.npz\n",
            "collected/IMU_2018-12-06_15-28-51.npz\n",
            "collected/imgs_2018-12-06_15-21-43.npz\n",
            "collected/imgs_2018-12-06_13-34-13.npz\n",
            "collected/IMU_2018-12-06_15-22-00.npz\n",
            "collected/imgs_2018-12-06_15-22-05.npz\n",
            "collected/imgs_2018-12-06_13-33-03.npz\n",
            "collected/commands_2018-12-06_13-34-18.npz\n",
            "collected/imgs_2018-12-06_15-21-18.npz\n",
            "collected/commands_2018-12-06_15-42-27.npz\n",
            "collected/IMU_2018-12-06_15-20-53.npz\n",
            "collected/imgs_2018-12-06_13-34-53.npz\n",
            "collected/imgs_2019-02-25_16-38-33.npz\n",
            "collected/imgs_2018-12-06_13-30-58.npz\n",
            "collected/commands_2018-12-15_12-58-31.npz\n",
            "collected/imgs_2018-12-06_13-00-18.npz\n",
            "collected/imgs_2019-02-25_16-37-19.npz\n",
            "collected/IMU_2018-12-06_15-29-31.npz\n",
            "collected/imgs_2018-12-06_13-31-13.npz\n",
            "collected/imgs_2018-12-06_13-32-58.npz\n",
            "collected/IMU_2018-12-06_15-20-58.npz\n",
            "collected/commands_2018-12-06_15-37-26.npz\n",
            "collected/IMU_2018-12-15_11-51-26.npz\n",
            "collected/commands_2018-12-15_11-51-21.npz\n",
            "collected/imgs_2018-12-15_12-50-30.npz\n",
            "collected/IMU_2018-12-15_12-58-11.npz\n",
            "collected/commands_2019-02-25_16-36-19.npz\n",
            "collected/imgs_2018-12-06_15-50-49.npz\n",
            "collected/imgs_2018-12-06_15-42-17.npz\n",
            "collected/commands_2018-12-06_15-49-59.npz\n",
            "collected/IMU_2018-12-06_15-30-01.npz\n",
            "collected/IMU_2018-12-15_12-59-06.npz\n",
            "collected/commands_2018-12-06_15-29-21.npz\n",
            "collected/commands_2018-12-06_15-40-42.npz\n",
            "collected/imgs_2018-12-06_13-35-03.npz\n",
            "collected/imgs_2019-02-25_16-37-04.npz\n",
            "collected/commands_2018-12-06_13-30-33.npz\n",
            "collected/imgs_2018-12-06_15-23-35.npz\n",
            "collected/IMU_2018-12-06_15-37-06.npz\n",
            "collected/IMU_2018-12-06_15-22-50.npz\n",
            "collected/IMU_2018-12-15_12-57-31.npz\n",
            "collected/imgs_2019-02-25_16-38-43.npz\n",
            "collected/IMU_2019-02-25_16-36-39.npz\n",
            "collected/commands_2018-12-06_15-30-11.npz\n",
            "collected/commands_2018-12-06_15-39-11.npz\n",
            "collected/imgs_2018-12-06_13-31-53.npz\n",
            "collected/imgs_2019-02-25_16-24-59.npz\n",
            "collected/commands_2018-12-06_15-27-41.npz\n",
            "collected/imgs_2018-12-06_15-28-46.npz\n",
            "collected/imgs_2019-02-25_16-36-39.npz\n",
            "collected/imgs_2018-12-15_11-51-26.npz\n",
            "collected/commands_2018-12-06_15-41-22.npz\n",
            "collected/imgs_2018-12-15_12-57-21.npz\n",
            "collected/imgs_2018-12-06_15-29-11.npz\n",
            "collected/commands_2018-12-06_15-50-24.npz\n",
            "collected/IMU_2018-12-06_13-00-08.npz\n",
            "collected/commands_2019-02-25_16-36-34.npz\n",
            "collected/imgs_2018-12-06_15-40-47.npz\n",
            "collected/IMU_2018-12-06_13-33-13.npz\n",
            "collected/imgs_2018-12-06_15-42-37.npz\n",
            "collected/commands_2019-02-25_16-38-08.npz\n",
            "collected/IMU_2018-12-06_13-00-13.npz\n",
            "collected/IMU_2019-02-25_16-36-34.npz\n",
            "collected/IMU_2018-12-06_13-31-38.npz\n",
            "collected/IMU_2018-12-06_13-33-48.npz\n",
            "collected/IMU_2018-12-06_13-34-18.npz\n",
            "collected/imgs_2018-12-15_12-57-31.npz\n",
            "collected/imgs_2018-12-06_13-01-28.npz\n",
            "collected/imgs_2018-12-06_13-35-08.npz\n",
            "collected/commands_2018-12-06_15-23-20.npz\n",
            "collected/IMU_2018-12-15_11-28-05.npz\n",
            "collected/IMU_2018-12-06_15-28-11.npz\n",
            "collected/commands_2019-02-25_16-37-33.npz\n",
            "collected/commands_2018-12-06_13-31-38.npz\n",
            "collected/imgs_2018-12-06_13-31-28.npz\n",
            "collected/imgs_2019-02-25_16-38-28.npz\n",
            "collected/IMU_2018-12-06_15-23-10.npz\n",
            "collected/commands_2018-12-06_15-42-42.npz\n",
            "collected/imgs_2018-12-06_15-37-11.npz\n",
            "collected/IMU_2018-12-06_13-01-18.npz\n",
            "collected/imgs_2018-12-06_15-41-52.npz\n",
            "collected/commands_2018-12-06_15-43-15.npz\n",
            "collected/commands_2018-12-06_13-31-03.npz\n",
            "collected/imgs_2018-12-06_13-34-28.npz\n",
            "collected/imgs_2018-12-06_13-01-08.npz\n",
            "collected/imgs_2018-12-15_12-59-06.npz\n",
            "collected/imgs_2018-12-06_13-34-33.npz\n",
            "collected/IMU_2018-12-06_13-33-23.npz\n",
            "collected/commands_2018-12-06_15-36-11.npz\n",
            "collected/IMU_2018-12-06_13-01-48.npz\n",
            "collected/commands_2018-12-06_13-00-08.npz\n",
            "collected/imgs_2018-12-06_13-00-28.npz\n",
            "collected/commands_2018-12-06_15-41-02.npz\n",
            "collected/commands_2018-12-06_13-01-33.npz\n",
            "collected/imgs_2018-12-06_15-41-37.npz\n",
            "collected/commands_2018-12-06_15-29-31.npz\n",
            "collected/commands_2018-12-06_13-33-43.npz\n",
            "collected/IMU_2018-12-06_15-38-21.npz\n",
            "collected/IMU_2018-12-06_15-28-26.npz\n",
            "collected/imgs_2018-12-06_13-33-38.npz\n",
            "collected/commands_2018-12-06_15-20-53.npz\n",
            "collected/imgs_2018-12-06_13-30-48.npz\n",
            "collected/IMU_2018-12-06_15-37-46.npz\n",
            "collected/IMU_2018-12-06_15-42-32.npz\n",
            "collected/IMU_2018-12-06_15-29-21.npz\n",
            "collected/commands_2018-12-06_13-00-33.npz\n",
            "collected/imgs_2018-12-06_13-02-21.npz\n",
            "collected/commands_2018-12-06_15-42-22.npz\n",
            "collected/IMU_2019-02-25_16-37-29.npz\n",
            "collected/commands_2018-12-06_13-02-21.npz\n",
            "collected/commands_2018-12-06_15-38-01.npz\n",
            "collected/imgs_2018-12-06_15-36-56.npz\n",
            "collected/commands_2018-12-06_15-38-11.npz\n",
            "collected/commands_2018-12-06_13-33-23.npz\n",
            "collected/commands_2018-12-06_13-34-38.npz\n",
            "collected/IMU_2018-12-06_15-36-16.npz\n",
            "collected/IMU_2018-12-06_13-30-48.npz\n",
            "collected/imgs_2018-12-15_11-37-39.npz\n",
            "collected/imgs_2018-12-06_15-38-31.npz\n",
            "collected/commands_2018-12-15_12-58-41.npz\n",
            "collected/commands_2018-12-15_11-28-10.npz\n",
            "collected/imgs_2018-12-06_13-00-53.npz\n",
            "collected/commands_2018-12-06_15-36-51.npz\n",
            "collected/commands_2018-12-06_15-21-18.npz\n",
            "collected/commands_2018-12-06_15-50-29.npz\n",
            "collected/commands_2018-12-06_15-22-45.npz\n",
            "collected/IMU_2018-12-06_12-59-43.npz\n",
            "collected/commands_2018-12-06_15-38-31.npz\n",
            "collected/commands_2018-12-06_15-27-36.npz\n",
            "collected/commands_2018-12-06_15-29-46.npz\n",
            "collected/imgs_2018-12-15_11-51-28.npz\n",
            "collected/imgs_2018-12-06_15-38-46.npz\n",
            "collected/commands_2018-12-06_13-32-53.npz\n",
            "collected/commands_2018-12-06_15-36-28.npz\n",
            "collected/IMU_2018-12-06_15-27-36.npz\n",
            "collected/commands_2018-12-06_13-31-18.npz\n",
            "collected/IMU_2018-12-06_13-30-23.npz\n",
            "collected/IMU_2018-12-06_15-22-55.npz\n",
            "collected/imgs_2018-12-06_15-22-10.npz\n",
            "collected/commands_2018-12-06_13-02-13.npz\n",
            "collected/IMU_2018-12-06_15-42-17.npz\n",
            "collected/commands_2019-02-25_16-24-59.npz\n",
            "collected/commands_2018-12-06_15-42-17.npz\n",
            "collected/IMU_2018-12-15_12-58-51.npz\n",
            "collected/commands_2019-02-25_16-36-54.npz\n",
            "collected/IMU_2018-12-06_15-41-22.npz\n",
            "collected/commands_2018-12-15_11-26-03.npz\n",
            "collected/commands_2018-12-15_11-51-28.npz\n",
            "collected/IMU_2018-12-06_13-31-08.npz\n",
            "collected/imgs_2018-12-15_12-58-36.npz\n",
            "collected/commands_2018-12-06_15-27-46.npz\n",
            "collected/imgs_2018-12-15_12-57-46.npz\n",
            "collected/imgs_2018-12-06_13-32-28.npz\n",
            "collected/imgs_2018-12-06_13-33-53.npz\n",
            "collected/imgs_2018-12-06_15-41-42.npz\n",
            "collected/commands_2018-12-06_15-36-16.npz\n",
            "collected/commands_2019-02-25_16-38-28.npz\n",
            "collected/IMU_2018-12-06_15-39-11.npz\n",
            "collected/commands_2018-12-06_13-31-53.npz\n",
            "collected/commands_2018-12-06_15-27-56.npz\n",
            "collected/IMU_2018-12-06_13-01-03.npz\n",
            "collected/IMU_2018-12-06_13-30-28.npz\n",
            "collected/imgs_2018-12-06_15-39-41.npz\n",
            "collected/commands_2018-12-06_15-37-41.npz\n",
            "collected/imgs_2018-12-06_15-40-05.npz\n",
            "collected/commands_2018-12-06_13-31-43.npz\n",
            "collected/commands_2018-12-06_13-31-58.npz\n",
            "collected/imgs_2018-12-06_13-32-33.npz\n",
            "collected/commands_2018-12-06_15-39-36.npz\n",
            "collected/commands_2019-02-25_16-38-43.npz\n",
            "collected/commands_2018-12-06_15-40-01.npz\n",
            "collected/IMU_2018-12-15_12-59-01.npz\n",
            "collected/IMU_2018-12-06_15-39-46.npz\n",
            "collected/IMU_2018-12-15_12-57-21.npz\n",
            "collected/commands_2018-12-06_13-32-23.npz\n",
            "collected/imgs_2018-12-06_15-50-44.npz\n",
            "collected/commands_2018-12-06_15-42-12.npz\n",
            "collected/IMU_2018-12-06_13-01-38.npz\n",
            "collected/IMU_2018-12-06_15-50-04.npz\n",
            "collected/commands_2018-12-06_13-00-48.npz\n",
            "collected/commands_2018-12-15_12-57-51.npz\n",
            "collected/commands_2018-12-06_13-34-43.npz\n",
            "collected/commands_2018-12-06_15-29-36.npz\n",
            "collected/IMU_2018-12-06_15-28-46.npz\n",
            "collected/IMU_2018-12-06_13-34-58.npz\n",
            "collected/IMU_2018-12-06_15-22-10.npz\n",
            "collected/IMU_2018-12-06_15-21-28.npz\n",
            "collected/imgs_2018-12-06_15-41-17.npz\n",
            "collected/commands_2018-12-06_15-20-58.npz\n",
            "collected/commands_2018-12-06_13-30-58.npz\n",
            "collected/commands_2018-12-06_15-22-30.npz\n",
            "collected/IMU_2018-12-06_13-01-58.npz\n",
            "collected/imgs_2018-12-06_15-30-16.npz\n",
            "collected/imgs_2018-12-15_12-58-16.npz\n",
            "collected/IMU_2019-02-25_16-38-23.npz\n",
            "collected/IMU_2018-12-06_13-34-43.npz\n",
            "collected/imgs_2018-12-06_13-34-08.npz\n",
            "collected/IMU_2018-12-06_15-21-18.npz\n",
            "collected/commands_2018-12-06_13-01-23.npz\n",
            "collected/commands_2018-12-06_15-37-56.npz\n",
            "collected/IMU_2018-12-15_11-51-28.npz\n",
            "collected/commands_2018-12-06_12-59-43.npz\n",
            "collected/imgs_2018-12-06_15-28-21.npz\n",
            "collected/commands_2018-12-15_12-58-51.npz\n",
            "collected/IMU_2018-12-06_15-38-26.npz\n",
            "collected/imgs_2018-12-06_15-37-01.npz\n",
            "collected/IMU_2018-12-06_15-37-51.npz\n",
            "collected/imgs_2018-12-06_13-01-33.npz\n",
            "collected/commands_2018-12-06_15-22-10.npz\n",
            "collected/imgs_2018-12-06_15-36-26.npz\n",
            "collected/imgs_2018-12-06_15-22-00.npz\n",
            "collected/imgs_2018-12-06_13-31-58.npz\n",
            "collected/commands_2018-12-06_15-37-46.npz\n",
            "collected/commands_2018-12-15_12-57-31.npz\n",
            "collected/commands_2018-12-06_13-00-58.npz\n",
            "collected/commands_2018-12-06_15-29-56.npz\n",
            "collected/commands_2018-12-06_15-28-51.npz\n",
            "collected/commands_2018-12-06_13-01-08.npz\n",
            "collected/commands_2018-12-06_13-00-13.npz\n",
            "collected/IMU_2018-12-06_13-00-48.npz\n",
            "collected/commands_2018-12-06_15-39-21.npz\n",
            "collected/commands_2018-12-06_15-50-04.npz\n",
            "collected/commands_2018-12-06_15-21-28.npz\n",
            "collected/commands_2018-12-06_15-37-16.npz\n",
            "collected/IMU_2018-12-06_13-32-23.npz\n",
            "collected/IMU_2019-02-25_16-36-24.npz\n",
            "collected/imgs_2018-12-15_12-34-06.npz\n",
            "collected/imgs_2018-12-06_13-30-28.npz\n",
            "collected/IMU_2019-02-25_16-36-44.npz\n",
            "collected/imgs_2019-02-25_16-38-13.npz\n",
            "collected/commands_2018-12-06_13-33-28.npz\n",
            "collected/IMU_2018-12-06_15-28-01.npz\n",
            "collected/IMU_2018-12-06_13-34-08.npz\n",
            "collected/commands_2018-12-06_15-28-01.npz\n",
            "collected/commands_2019-02-25_16-37-48.npz\n",
            "collected/IMU_2019-02-25_16-38-33.npz\n",
            "collected/commands_2018-12-06_15-39-56.npz\n",
            "collected/imgs_2018-12-06_15-28-41.npz\n",
            "collected/IMU_2018-12-06_15-37-31.npz\n",
            "collected/imgs_2018-12-06_13-34-58.npz\n",
            "collected/IMU_2018-12-15_12-58-21.npz\n",
            "collected/commands_2018-12-06_15-38-06.npz\n",
            "collected/imgs_2019-02-25_16-36-49.npz\n",
            "collected/imgs_2018-12-06_12-59-58.npz\n",
            "collected/imgs_2018-12-06_15-38-01.npz\n",
            "collected/imgs_2018-12-06_13-02-13.npz\n",
            "collected/commands_2018-12-06_15-29-01.npz\n",
            "collected/imgs_2018-12-06_15-22-50.npz\n",
            "collected/IMU_2018-12-06_15-41-52.npz\n",
            "collected/IMU_2018-12-06_15-42-07.npz\n",
            "collected/imgs_2019-02-25_16-38-08.npz\n",
            "collected/commands_2018-12-15_12-58-21.npz\n",
            "collected/imgs_2019-02-25_16-17-31.npz\n",
            "collected/imgs_2018-12-06_15-50-59.npz\n",
            "collected/commands_2019-02-25_16-36-14.npz\n",
            "collected/commands_2018-12-06_15-42-02.npz\n",
            "collected/commands_2018-12-06_15-21-38.npz\n",
            "collected/commands_2018-12-06_15-21-23.npz\n",
            "collected/imgs_2018-12-06_13-32-23.npz\n",
            "collected/commands_2018-12-15_12-58-46.npz\n",
            "collected/IMU_2018-12-06_15-49-59.npz\n",
            "collected/commands_2019-02-25_16-37-43.npz\n",
            "collected/commands_2018-12-15_11-28-05.npz\n",
            "collected/imgs_2018-12-06_15-29-16.npz\n",
            "collected/imgs_2018-12-06_15-50-14.npz\n",
            "collected/imgs_2018-12-06_15-28-16.npz\n",
            "collected/commands_2018-12-06_13-00-38.npz\n",
            "collected/imgs_2018-12-06_12-59-53.npz\n",
            "collected/commands_2018-12-06_15-30-20.npz\n",
            "collected/imgs_2018-12-06_13-01-58.npz\n",
            "collected/IMU_2018-12-06_15-50-24.npz\n",
            "collected/commands_2018-12-06_15-28-21.npz\n",
            "collected/IMU_2018-12-06_15-39-26.npz\n",
            "collected/IMU_2018-12-06_15-41-07.npz\n",
            "collected/IMU_2018-12-06_15-38-56.npz\n",
            "collected/imgs_2018-12-15_12-57-41.npz\n",
            "collected/imgs_2018-12-06_13-33-58.npz\n",
            "collected/commands_2018-12-06_13-00-43.npz\n",
            "collected/IMU_2018-12-06_12-59-53.npz\n",
            "collected/imgs_2018-12-06_15-38-21.npz\n",
            "collected/IMU_2018-12-06_13-32-58.npz\n",
            "collected/imgs_2018-12-06_13-01-43.npz\n",
            "collected/commands_2018-12-06_15-37-31.npz\n",
            "collected/imgs_2018-12-06_13-33-23.npz\n",
            "collected/imgs_2018-12-06_15-28-26.npz\n",
            "collected/imgs_2018-12-06_15-38-41.npz\n",
            "collected/imgs_2018-12-06_15-42-12.npz\n",
            "collected/imgs_2018-12-06_13-01-13.npz\n",
            "collected/IMU_2018-12-06_15-38-46.npz\n",
            "collected/commands_2019-02-25_16-36-24.npz\n",
            "collected/IMU_2018-12-06_15-39-01.npz\n",
            "collected/IMU_2018-12-06_15-38-36.npz\n",
            "collected/commands_2018-12-06_15-22-05.npz\n",
            "collected/IMU_2018-12-06_15-40-52.npz\n",
            "collected/IMU_2019-02-25_16-37-58.npz\n",
            "collected/commands_2019-02-25_16-38-03.npz\n",
            "collected/imgs_2018-12-06_15-27-51.npz\n",
            "collected/imgs_2018-12-06_13-00-48.npz\n",
            "collected/IMU_2018-12-06_15-41-12.npz\n",
            "collected/commands_2018-12-06_15-21-43.npz\n",
            "collected/IMU_2018-12-06_15-21-13.npz\n",
            "collected/imgs_2018-12-06_15-36-46.npz\n",
            "collected/commands_2018-12-06_13-00-23.npz\n",
            "collected/IMU_2018-12-06_13-34-38.npz\n",
            "collected/IMU_2018-12-06_13-00-28.npz\n",
            "collected/imgs_2018-12-06_15-29-01.npz\n",
            "collected/commands_2018-12-06_15-38-36.npz\n",
            "collected/imgs_2018-12-06_13-31-23.npz\n",
            "collected/imgs_2018-12-06_15-39-51.npz\n",
            "collected/imgs_2018-12-06_13-00-38.npz\n",
            "collected/IMU_2019-02-25_16-37-09.npz\n",
            "collected/commands_2018-12-06_13-32-48.npz\n",
            "collected/IMU_2019-02-25_16-37-23.npz\n",
            "collected/imgs_2018-12-06_13-32-48.npz\n",
            "collected/IMU_2018-12-06_13-01-28.npz\n",
            "collected/imgs_2018-12-06_15-28-56.npz\n",
            "collected/imgs_2018-12-06_15-29-21.npz\n",
            "collected/IMU_2018-12-06_13-02-03.npz\n",
            "collected/commands_2018-12-06_15-36-26.npz\n",
            "collected/IMU_2019-02-25_16-37-33.npz\n",
            "collected/imgs_2018-12-15_11-28-20.npz\n",
            "collected/imgs_2019-02-25_16-38-03.npz\n",
            "collected/imgs_2018-12-06_15-22-15.npz\n",
            "collected/imgs_2018-12-06_12-59-38.npz\n",
            "collected/imgs_2018-12-06_15-39-11.npz\n",
            "collected/imgs_2018-12-06_15-41-22.npz\n",
            "collected/IMU_2019-02-25_16-38-18.npz\n",
            "collected/commands_2018-12-06_13-32-43.npz\n",
            "collected/commands_2018-12-06_15-21-33.npz\n",
            "collected/imgs_2019-02-25_16-37-09.npz\n",
            "collected/IMU_2018-12-06_15-41-17.npz\n",
            "collected/commands_2018-12-06_15-43-05.npz\n",
            "collected/IMU_2018-12-06_13-32-53.npz\n",
            "collected/IMU_2019-02-25_16-38-03.npz\n",
            "collected/IMU_2019-02-25_16-38-08.npz\n",
            "collected/imgs_2018-12-06_15-30-20.npz\n",
            "collected/commands_2018-12-15_12-59-06.npz\n",
            "collected/imgs_2018-12-06_15-41-02.npz\n",
            "collected/IMU_2018-12-06_15-36-51.npz\n",
            "collected/IMU_2019-02-25_16-17-31.npz\n",
            "collected/commands_2018-12-06_15-37-36.npz\n",
            "collected/imgs_2018-12-06_15-22-40.npz\n",
            "collected/IMU_2018-12-06_15-43-10.npz\n",
            "collected/IMU_2018-12-06_15-29-41.npz\n",
            "collected/IMU_2018-12-06_15-50-19.npz\n",
            "collected/imgs_2018-12-06_13-33-48.npz\n",
            "collected/imgs_2018-12-06_13-31-03.npz\n",
            "collected/IMU_2018-12-06_15-22-40.npz\n",
            "collected/IMU_2018-12-06_13-34-28.npz\n",
            "collected/imgs_2018-12-06_15-21-38.npz\n",
            "collected/commands_2018-12-06_15-23-35.npz\n",
            "collected/imgs_2018-12-06_15-37-16.npz\n",
            "collected/IMU_2018-12-15_12-58-36.npz\n",
            "collected/commands_2018-12-06_13-33-08.npz\n",
            "collected/IMU_2018-12-06_13-31-18.npz\n",
            "collected/imgs_2018-12-06_15-41-47.npz\n",
            "collected/IMU_2018-12-06_13-00-58.npz\n",
            "collected/commands_2018-12-06_13-02-18.npz\n",
            "collected/imgs_2018-12-06_15-27-36.npz\n",
            "collected/IMU_2019-02-25_16-38-43.npz\n",
            "collected/commands_2018-12-06_15-41-07.npz\n",
            "collected/commands_2018-12-06_15-39-06.npz\n",
            "collected/imgs_2018-12-15_12-59-01.npz\n",
            "collected/commands_2018-12-06_13-35-03.npz\n",
            "collected/imgs_2018-12-06_15-50-54.npz\n",
            "collected/IMU_2018-12-06_15-39-16.npz\n",
            "collected/IMU_2018-12-06_15-39-41.npz\n",
            "collected/commands_2018-12-06_15-21-13.npz\n",
            "collected/imgs_2019-02-25_16-36-59.npz\n",
            "collected/imgs_2018-12-06_15-20-58.npz\n",
            "collected/IMU_2018-12-06_15-21-33.npz\n",
            "collected/commands_2018-12-15_12-50-30.npz\n",
            "collected/commands_2018-12-06_15-27-51.npz\n",
            "collected/imgs_2018-12-15_12-58-11.npz\n",
            "collected/commands_2018-12-06_15-21-53.npz\n",
            "collected/imgs_2018-12-06_12-54-17.npz\n",
            "collected/commands_2018-12-06_15-29-06.npz\n",
            "collected/commands_2018-12-06_15-23-30.npz\n",
            "collected/commands_2018-12-06_15-41-27.npz\n",
            "collected/IMU_2018-12-06_12-59-58.npz\n",
            "collected/imgs_2018-12-06_15-40-32.npz\n",
            "collected/imgs_2018-12-06_13-32-38.npz\n",
            "collected/imgs_2018-12-06_13-33-18.npz\n",
            "collected/imgs_2018-12-06_15-39-01.npz\n",
            "collected/commands_2018-12-06_15-41-42.npz\n",
            "collected/imgs_2018-12-06_15-21-53.npz\n",
            "collected/imgs_2018-12-06_13-01-03.npz\n",
            "collected/imgs_2018-12-06_15-29-36.npz\n",
            "collected/IMU_2018-12-06_13-34-53.npz\n",
            "collected/imgs_2018-12-06_15-37-06.npz\n",
            "collected/IMU_2018-12-06_15-30-06.npz\n",
            "collected/IMU_2018-12-15_12-57-41.npz\n",
            "collected/imgs_2018-12-06_13-30-23.npz\n",
            "collected/commands_2018-12-15_12-58-16.npz\n",
            "collected/imgs_2018-12-06_15-29-31.npz\n",
            "collected/IMU_2018-12-06_13-35-08.npz\n",
            "collected/commands_2019-02-25_16-37-53.npz\n",
            "collected/imgs_2018-12-15_12-58-41.npz\n",
            "collected/imgs_2018-12-15_12-57-36.npz\n",
            "collected/imgs_2018-12-06_13-01-48.npz\n",
            "collected/commands_2018-12-06_15-50-49.npz\n",
            "collected/IMU_2018-12-06_13-02-21.npz\n",
            "collected/imgs_2018-12-15_12-58-01.npz\n",
            "collected/commands_2018-12-06_13-30-23.npz\n",
            "collected/IMU_2018-12-06_15-23-25.npz\n",
            "collected/commands_2019-02-25_16-17-31.npz\n",
            "collected/IMU_2018-12-06_15-36-11.npz\n",
            "collected/IMU_2018-12-06_13-01-53.npz\n",
            "collected/imgs_2018-12-06_15-38-06.npz\n",
            "collected/imgs_2018-12-06_15-20-53.npz\n",
            "collected/commands_2018-12-06_13-33-03.npz\n",
            "collected/imgs_2018-12-06_13-30-53.npz\n",
            "collected/IMU_2018-12-06_15-28-56.npz\n",
            "collected/IMU_2018-12-06_13-01-08.npz\n",
            "collected/IMU_2018-12-06_13-31-03.npz\n",
            "collected/commands_2018-12-06_15-38-46.npz\n",
            "collected/commands_2018-12-06_15-22-50.npz\n",
            "collected/imgs_2018-12-06_13-00-58.npz\n",
            "collected/commands_2018-12-06_15-22-55.npz\n",
            "collected/IMU_2018-12-06_15-50-14.npz\n",
            "collected/IMU_2018-12-15_12-57-46.npz\n",
            "collected/imgs_2018-12-06_15-39-31.npz\n",
            "collected/IMU_2018-12-06_13-01-23.npz\n",
            "collected/IMU_2018-12-06_15-41-27.npz\n",
            "collected/IMU_2018-12-06_15-30-20.npz\n",
            "collected/commands_2018-12-06_15-39-31.npz\n",
            "collected/commands_2019-02-25_16-37-14.npz\n",
            "collected/commands_2018-12-06_15-28-06.npz\n",
            "collected/IMU_2018-12-06_15-37-11.npz\n",
            "collected/imgs_2019-02-25_16-36-09.npz\n",
            "collected/imgs_2018-12-06_13-00-23.npz\n",
            "collected/IMU_2018-12-06_15-43-05.npz\n",
            "collected/imgs_2018-12-06_13-30-33.npz\n",
            "collected/IMU_2018-12-06_15-28-41.npz\n",
            "collected/commands_2018-12-06_15-23-15.npz\n",
            "collected/IMU_2018-12-06_15-28-31.npz\n",
            "collected/IMU_2018-12-06_13-32-38.npz\n",
            "collected/IMU_2018-12-06_15-40-57.npz\n",
            "collected/IMU_2018-12-06_15-21-08.npz\n",
            "collected/imgs_2019-02-25_16-38-38.npz\n",
            "collected/imgs_2019-02-25_16-37-33.npz\n",
            "collected/commands_2018-12-06_15-30-16.npz\n",
            "collected/commands_2018-12-06_15-39-01.npz\n",
            "collected/IMU_2018-12-06_13-32-08.npz\n",
            "collected/imgs_2018-12-15_12-58-46.npz\n",
            "collected/imgs_2018-12-06_15-40-57.npz\n",
            "collected/commands_2018-12-06_13-32-03.npz\n",
            "collected/commands_2018-12-06_13-34-23.npz\n",
            "collected/IMU_2018-12-06_13-02-13.npz\n",
            "collected/IMU_2018-12-06_13-34-48.npz\n",
            "collected/IMU_2018-12-06_15-29-56.npz\n",
            "collected/imgs_2018-12-06_12-59-48.npz\n",
            "collected/imgs_2018-12-06_15-27-56.npz\n",
            "collected/imgs_2018-12-15_12-58-31.npz\n",
            "collected/imgs_2018-12-06_15-21-13.npz\n",
            "collected/IMU_2019-02-25_16-24-59.npz\n",
            "collected/IMU_2018-12-06_15-50-39.npz\n",
            "collected/imgs_2019-02-25_16-37-29.npz\n",
            "collected/commands_2018-12-06_13-30-43.npz\n",
            "collected/IMU_2018-12-06_15-38-41.npz\n",
            "collected/IMU_2018-12-06_15-40-42.npz\n",
            "collected/imgs_2018-12-06_15-30-11.npz\n",
            "collected/IMU_2018-12-06_15-42-12.npz\n",
            "collected/IMU_2018-12-06_15-50-59.npz\n",
            "collected/imgs_2018-12-06_15-29-51.npz\n",
            "collected/commands_2018-12-06_13-34-48.npz\n",
            "collected/commands_2018-12-15_12-58-56.npz\n",
            "collected/imgs_2018-12-06_13-33-28.npz\n",
            "collected/IMU_2018-12-06_15-39-36.npz\n",
            "collected/imgs_2018-12-06_13-32-53.npz\n",
            "collected/IMU_2018-12-06_15-37-36.npz\n",
            "collected/IMU_2018-12-06_15-39-31.npz\n",
            "collected/commands_2018-12-06_15-29-51.npz\n",
            "collected/IMU_2018-12-06_12-59-48.npz\n",
            "collected/commands_2018-12-06_13-34-03.npz\n",
            "collected/imgs_2019-02-25_16-36-29.npz\n",
            "collected/IMU_2018-12-06_15-30-11.npz\n",
            "collected/IMU_2018-12-06_15-50-09.npz\n",
            "collected/imgs_2018-12-06_15-36-11.npz\n",
            "collected/commands_2018-12-06_13-33-13.npz\n",
            "collected/commands_2019-02-25_16-36-29.npz\n",
            "collected/imgs_2018-12-06_15-39-06.npz\n",
            "collected/imgs_2018-12-06_15-38-51.npz\n",
            "collected/imgs_2018-12-06_15-28-06.npz\n",
            "collected/imgs_2018-12-06_15-38-36.npz\n",
            "collected/IMU_2018-12-06_15-29-46.npz\n",
            "collected/IMU_2018-12-06_15-37-16.npz\n",
            "collected/commands_2018-12-06_15-40-37.npz\n",
            "collected/imgs_2018-12-06_13-31-38.npz\n",
            "collected/commands_2018-12-06_13-33-38.npz\n",
            "collected/imgs_2018-12-06_15-22-25.npz\n",
            "collected/commands_2018-12-06_13-33-18.npz\n",
            "collected/IMU_2019-02-25_16-37-04.npz\n",
            "collected/IMU_2018-12-06_15-40-01.npz\n",
            "collected/commands_2018-12-06_15-37-11.npz\n",
            "collected/commands_2019-02-25_16-36-09.npz\n",
            "collected/commands_2018-12-06_13-30-53.npz\n",
            "collected/commands_2018-12-15_12-57-36.npz\n",
            "collected/commands_2018-12-06_14-58-51.npz\n",
            "collected/imgs_2018-12-06_15-23-10.npz\n",
            "collected/IMU_2019-02-25_16-36-59.npz\n",
            "collected/imgs_2018-12-06_15-21-48.npz\n",
            "collected/commands_2018-12-06_13-30-48.npz\n",
            "collected/imgs_2018-12-06_15-23-20.npz\n",
            "collected/IMU_2019-02-25_16-36-29.npz\n",
            "collected/imgs_2018-12-06_15-27-31.npz\n",
            "collected/IMU_2018-12-15_12-57-36.npz\n",
            "collected/IMU_2018-12-06_15-39-21.npz\n",
            "collected/commands_2018-12-06_15-41-52.npz\n",
            "collected/commands_2019-02-25_16-38-13.npz\n",
            "collected/imgs_2018-12-06_15-22-30.npz\n",
            "collected/commands_2018-12-06_13-32-33.npz\n",
            "collected/IMU_2018-12-06_15-40-37.npz\n",
            "collected/imgs_2018-12-06_15-50-39.npz\n",
            "collected/commands_2018-12-06_13-00-28.npz\n",
            "collected/IMU_2019-02-25_16-38-28.npz\n",
            "collected/imgs_2018-12-06_13-30-43.npz\n",
            "collected/IMU_2018-12-06_15-40-05.npz\n",
            "collected/imgs_2018-12-06_15-38-16.npz\n",
            "collected/commands_2018-12-15_11-28-15.npz\n",
            "collected/imgs_2019-02-25_16-37-38.npz\n",
            "collected/commands_2018-12-15_12-57-21.npz\n",
            "collected/IMU_2018-12-06_15-27-46.npz\n",
            "collected/IMU_2018-12-06_13-33-28.npz\n",
            "collected/IMU_2018-12-06_13-31-33.npz\n",
            "collected/IMU_2018-12-15_12-34-06.npz\n",
            "collected/IMU_2018-12-06_15-22-45.npz\n",
            "collected/IMU_2018-12-06_13-00-03.npz\n",
            "collected/IMU_2018-12-06_15-27-41.npz\n",
            "collected/IMU_2019-02-25_16-38-38.npz\n",
            "collected/commands_2018-12-06_15-50-44.npz\n",
            "collected/imgs_2018-12-06_13-01-23.npz\n",
            "collected/imgs_2018-12-06_15-42-46.npz\n",
            "collected/imgs_2018-12-06_13-31-43.npz\n",
            "collected/IMU_2018-12-06_13-34-03.npz\n",
            "collected/imgs_2018-12-06_15-42-22.npz\n",
            "collected/IMU_2018-12-06_15-38-31.npz\n",
            "collected/commands_2018-12-06_13-33-53.npz\n",
            "collected/commands_2018-12-06_13-01-48.npz\n",
            "collected/imgs_2018-12-06_13-00-43.npz\n",
            "collected/IMU_2018-12-06_15-39-06.npz\n",
            "collected/IMU_2018-12-06_13-31-28.npz\n",
            "collected/imgs_2018-12-06_15-30-01.npz\n",
            "collected/imgs_2018-12-15_11-26-03.npz\n",
            "collected/IMU_2018-12-06_15-38-01.npz\n",
            "collected/commands_2018-12-06_15-41-12.npz\n",
            "collected/IMU_2018-12-06_13-33-08.npz\n",
            "collected/commands_2018-12-06_13-32-38.npz\n",
            "collected/IMU_2018-12-06_15-38-51.npz\n",
            "collected/IMU_2018-12-06_15-41-37.npz\n",
            "collected/imgs_2018-12-06_15-21-33.npz\n",
            "collected/imgs_2018-12-15_12-58-26.npz\n",
            "collected/commands_2018-12-06_15-29-11.npz\n",
            "collected/imgs_2018-12-06_15-43-15.npz\n",
            "collected/imgs_2018-12-06_15-37-41.npz\n",
            "collected/commands_2018-12-06_13-34-28.npz\n",
            "collected/imgs_2018-12-06_15-40-52.npz\n",
            "collected/commands_2018-12-06_13-01-58.npz\n",
            "collected/commands_2018-12-06_13-31-48.npz\n",
            "collected/imgs_2018-12-06_15-22-55.npz\n",
            "collected/commands_2018-12-06_15-22-15.npz\n",
            "collected/IMU_2018-12-06_15-38-11.npz\n",
            "collected/commands_2018-12-06_15-23-05.npz\n"
          ],
          "name": "stdout"
        }
      ]
    },
    {
      "cell_type": "code",
      "metadata": {
        "id": "EjSs9u6-HJ4i",
        "colab_type": "code",
        "colab": {
          "base_uri": "https://localhost:8080/",
          "height": 52
        },
        "outputId": "13eef3dc-e1c2-4ccf-8fd6-08e981e19417"
      },
      "source": [
        "\n",
        "%cd /content/data/cars/\n",
        "!ls"
      ],
      "execution_count": 25,
      "outputs": [
        {
          "output_type": "stream",
          "text": [
            "/content/data/cars\n",
            "steelroses\n"
          ],
          "name": "stdout"
        }
      ]
    },
    {
      "cell_type": "markdown",
      "metadata": {
        "id": "kSEd47PrsSHV",
        "colab_type": "text"
      },
      "source": [
        "# Environment is setup\n",
        "\n",
        "We can run the software for training. But first we need to map the data to be acceissble.\n",
        "\n",
        " 1. Get g drive access to a cars curated training data\n",
        " 2. Take a look at some of the images\n",
        " 3. Train on the data set\n",
        " 4. Select steerstats \n",
        " 5. Experiement let's look at steer stats\n",
        " 6. What happens when we give it an image, what prediction is made\n",
        " 7. Download the weights and steerstats to the car\n",
        " 8. Test by running on the car"
      ]
    },
    {
      "cell_type": "code",
      "metadata": {
        "id": "XNoVFCbnLfUy",
        "colab_type": "code",
        "colab": {}
      },
      "source": [
        ""
      ],
      "execution_count": 0,
      "outputs": []
    },
    {
      "cell_type": "code",
      "metadata": {
        "id": "10LkxKaVLtgP",
        "colab_type": "code",
        "outputId": "96744db8-bf94-4e4d-e821-0d46988c119b",
        "colab": {
          "base_uri": "https://localhost:8080/",
          "height": 557
        }
      },
      "source": [
        "#NOT NEEDED  - Mounting Google Drive to access data\n",
        "from google.colab import drive # needs auth code unless made public\n",
        "drive.mount('/gdrive')"
      ],
      "execution_count": 0,
      "outputs": [
        {
          "output_type": "error",
          "ename": "KeyboardInterrupt",
          "evalue": "ignored",
          "traceback": [
            "\u001b[0;31m---------------------------------------------------------------------------\u001b[0m",
            "\u001b[0;31mKeyboardInterrupt\u001b[0m                         Traceback (most recent call last)",
            "\u001b[0;32m/usr/local/lib/python3.6/dist-packages/ipykernel/kernelbase.py\u001b[0m in \u001b[0;36m_input_request\u001b[0;34m(self, prompt, ident, parent, password)\u001b[0m\n\u001b[1;32m    729\u001b[0m             \u001b[0;32mtry\u001b[0m\u001b[0;34m:\u001b[0m\u001b[0;34m\u001b[0m\u001b[0;34m\u001b[0m\u001b[0m\n\u001b[0;32m--> 730\u001b[0;31m                 \u001b[0mident\u001b[0m\u001b[0;34m,\u001b[0m \u001b[0mreply\u001b[0m \u001b[0;34m=\u001b[0m \u001b[0mself\u001b[0m\u001b[0;34m.\u001b[0m\u001b[0msession\u001b[0m\u001b[0;34m.\u001b[0m\u001b[0mrecv\u001b[0m\u001b[0;34m(\u001b[0m\u001b[0mself\u001b[0m\u001b[0;34m.\u001b[0m\u001b[0mstdin_socket\u001b[0m\u001b[0;34m,\u001b[0m \u001b[0;36m0\u001b[0m\u001b[0;34m)\u001b[0m\u001b[0;34m\u001b[0m\u001b[0;34m\u001b[0m\u001b[0m\n\u001b[0m\u001b[1;32m    731\u001b[0m             \u001b[0;32mexcept\u001b[0m \u001b[0mException\u001b[0m\u001b[0;34m:\u001b[0m\u001b[0;34m\u001b[0m\u001b[0;34m\u001b[0m\u001b[0m\n",
            "\u001b[0;32m/usr/local/lib/python3.6/dist-packages/jupyter_client/session.py\u001b[0m in \u001b[0;36mrecv\u001b[0;34m(self, socket, mode, content, copy)\u001b[0m\n\u001b[1;32m    802\u001b[0m         \u001b[0;32mtry\u001b[0m\u001b[0;34m:\u001b[0m\u001b[0;34m\u001b[0m\u001b[0;34m\u001b[0m\u001b[0m\n\u001b[0;32m--> 803\u001b[0;31m             \u001b[0mmsg_list\u001b[0m \u001b[0;34m=\u001b[0m \u001b[0msocket\u001b[0m\u001b[0;34m.\u001b[0m\u001b[0mrecv_multipart\u001b[0m\u001b[0;34m(\u001b[0m\u001b[0mmode\u001b[0m\u001b[0;34m,\u001b[0m \u001b[0mcopy\u001b[0m\u001b[0;34m=\u001b[0m\u001b[0mcopy\u001b[0m\u001b[0;34m)\u001b[0m\u001b[0;34m\u001b[0m\u001b[0;34m\u001b[0m\u001b[0m\n\u001b[0m\u001b[1;32m    804\u001b[0m         \u001b[0;32mexcept\u001b[0m \u001b[0mzmq\u001b[0m\u001b[0;34m.\u001b[0m\u001b[0mZMQError\u001b[0m \u001b[0;32mas\u001b[0m \u001b[0me\u001b[0m\u001b[0;34m:\u001b[0m\u001b[0;34m\u001b[0m\u001b[0;34m\u001b[0m\u001b[0m\n",
            "\u001b[0;32m/usr/local/lib/python3.6/dist-packages/zmq/sugar/socket.py\u001b[0m in \u001b[0;36mrecv_multipart\u001b[0;34m(self, flags, copy, track)\u001b[0m\n\u001b[1;32m    465\u001b[0m         \"\"\"\n\u001b[0;32m--> 466\u001b[0;31m         \u001b[0mparts\u001b[0m \u001b[0;34m=\u001b[0m \u001b[0;34m[\u001b[0m\u001b[0mself\u001b[0m\u001b[0;34m.\u001b[0m\u001b[0mrecv\u001b[0m\u001b[0;34m(\u001b[0m\u001b[0mflags\u001b[0m\u001b[0;34m,\u001b[0m \u001b[0mcopy\u001b[0m\u001b[0;34m=\u001b[0m\u001b[0mcopy\u001b[0m\u001b[0;34m,\u001b[0m \u001b[0mtrack\u001b[0m\u001b[0;34m=\u001b[0m\u001b[0mtrack\u001b[0m\u001b[0;34m)\u001b[0m\u001b[0;34m]\u001b[0m\u001b[0;34m\u001b[0m\u001b[0;34m\u001b[0m\u001b[0m\n\u001b[0m\u001b[1;32m    467\u001b[0m         \u001b[0;31m# have first part already, only loop while more to receive\u001b[0m\u001b[0;34m\u001b[0m\u001b[0;34m\u001b[0m\u001b[0;34m\u001b[0m\u001b[0m\n",
            "\u001b[0;32mzmq/backend/cython/socket.pyx\u001b[0m in \u001b[0;36mzmq.backend.cython.socket.Socket.recv\u001b[0;34m()\u001b[0m\n",
            "\u001b[0;32mzmq/backend/cython/socket.pyx\u001b[0m in \u001b[0;36mzmq.backend.cython.socket.Socket.recv\u001b[0;34m()\u001b[0m\n",
            "\u001b[0;32mzmq/backend/cython/socket.pyx\u001b[0m in \u001b[0;36mzmq.backend.cython.socket._recv_copy\u001b[0;34m()\u001b[0m\n",
            "\u001b[0;32m/usr/local/lib/python3.6/dist-packages/zmq/backend/cython/checkrc.pxd\u001b[0m in \u001b[0;36mzmq.backend.cython.checkrc._check_rc\u001b[0;34m()\u001b[0m\n",
            "\u001b[0;31mKeyboardInterrupt\u001b[0m: ",
            "\nDuring handling of the above exception, another exception occurred:\n",
            "\u001b[0;31mKeyboardInterrupt\u001b[0m                         Traceback (most recent call last)",
            "\u001b[0;32m<ipython-input-20-e41e4f143e8b>\u001b[0m in \u001b[0;36m<module>\u001b[0;34m()\u001b[0m\n\u001b[1;32m      1\u001b[0m \u001b[0;32mfrom\u001b[0m \u001b[0mgoogle\u001b[0m\u001b[0;34m.\u001b[0m\u001b[0mcolab\u001b[0m \u001b[0;32mimport\u001b[0m \u001b[0mdrive\u001b[0m \u001b[0;31m# needs auth code unless made public\u001b[0m\u001b[0;34m\u001b[0m\u001b[0;34m\u001b[0m\u001b[0m\n\u001b[0;32m----> 2\u001b[0;31m \u001b[0mdrive\u001b[0m\u001b[0;34m.\u001b[0m\u001b[0mmount\u001b[0m\u001b[0;34m(\u001b[0m\u001b[0;34m'/gdrive'\u001b[0m\u001b[0;34m)\u001b[0m\u001b[0;34m\u001b[0m\u001b[0;34m\u001b[0m\u001b[0m\n\u001b[0m",
            "\u001b[0;32m/usr/local/lib/python3.6/dist-packages/google/colab/drive.py\u001b[0m in \u001b[0;36mmount\u001b[0;34m(mountpoint, force_remount, timeout_ms)\u001b[0m\n\u001b[1;32m    182\u001b[0m       \u001b[0;31m# Not already authorized, so do the authorization dance.\u001b[0m\u001b[0;34m\u001b[0m\u001b[0;34m\u001b[0m\u001b[0;34m\u001b[0m\u001b[0m\n\u001b[1;32m    183\u001b[0m       \u001b[0mauth_prompt\u001b[0m \u001b[0;34m=\u001b[0m \u001b[0md\u001b[0m\u001b[0;34m.\u001b[0m\u001b[0mmatch\u001b[0m\u001b[0;34m.\u001b[0m\u001b[0mgroup\u001b[0m\u001b[0;34m(\u001b[0m\u001b[0;36m1\u001b[0m\u001b[0;34m)\u001b[0m \u001b[0;34m+\u001b[0m \u001b[0;34m'\\n\\nEnter your authorization code:\\n'\u001b[0m\u001b[0;34m\u001b[0m\u001b[0;34m\u001b[0m\u001b[0m\n\u001b[0;32m--> 184\u001b[0;31m       \u001b[0md\u001b[0m\u001b[0;34m.\u001b[0m\u001b[0msend\u001b[0m\u001b[0;34m(\u001b[0m\u001b[0m_getpass\u001b[0m\u001b[0;34m.\u001b[0m\u001b[0mgetpass\u001b[0m\u001b[0;34m(\u001b[0m\u001b[0mauth_prompt\u001b[0m\u001b[0;34m)\u001b[0m \u001b[0;34m+\u001b[0m \u001b[0;34m'\\n'\u001b[0m\u001b[0;34m)\u001b[0m\u001b[0;34m\u001b[0m\u001b[0;34m\u001b[0m\u001b[0m\n\u001b[0m\u001b[1;32m    185\u001b[0m   \u001b[0md\u001b[0m\u001b[0;34m.\u001b[0m\u001b[0msendcontrol\u001b[0m\u001b[0;34m(\u001b[0m\u001b[0;34m'z'\u001b[0m\u001b[0;34m)\u001b[0m\u001b[0;34m\u001b[0m\u001b[0;34m\u001b[0m\u001b[0m\n\u001b[1;32m    186\u001b[0m   \u001b[0md\u001b[0m\u001b[0;34m.\u001b[0m\u001b[0mexpect\u001b[0m\u001b[0;34m(\u001b[0m\u001b[0;34mu'Stopped'\u001b[0m\u001b[0;34m)\u001b[0m\u001b[0;34m\u001b[0m\u001b[0;34m\u001b[0m\u001b[0m\n",
            "\u001b[0;32m/usr/local/lib/python3.6/dist-packages/ipykernel/kernelbase.py\u001b[0m in \u001b[0;36mgetpass\u001b[0;34m(self, prompt, stream)\u001b[0m\n\u001b[1;32m    686\u001b[0m             \u001b[0mself\u001b[0m\u001b[0;34m.\u001b[0m\u001b[0m_parent_ident\u001b[0m\u001b[0;34m,\u001b[0m\u001b[0;34m\u001b[0m\u001b[0;34m\u001b[0m\u001b[0m\n\u001b[1;32m    687\u001b[0m             \u001b[0mself\u001b[0m\u001b[0;34m.\u001b[0m\u001b[0m_parent_header\u001b[0m\u001b[0;34m,\u001b[0m\u001b[0;34m\u001b[0m\u001b[0;34m\u001b[0m\u001b[0m\n\u001b[0;32m--> 688\u001b[0;31m             \u001b[0mpassword\u001b[0m\u001b[0;34m=\u001b[0m\u001b[0;32mTrue\u001b[0m\u001b[0;34m,\u001b[0m\u001b[0;34m\u001b[0m\u001b[0;34m\u001b[0m\u001b[0m\n\u001b[0m\u001b[1;32m    689\u001b[0m         )\n\u001b[1;32m    690\u001b[0m \u001b[0;34m\u001b[0m\u001b[0m\n",
            "\u001b[0;32m/usr/local/lib/python3.6/dist-packages/ipykernel/kernelbase.py\u001b[0m in \u001b[0;36m_input_request\u001b[0;34m(self, prompt, ident, parent, password)\u001b[0m\n\u001b[1;32m    733\u001b[0m             \u001b[0;32mexcept\u001b[0m \u001b[0mKeyboardInterrupt\u001b[0m\u001b[0;34m:\u001b[0m\u001b[0;34m\u001b[0m\u001b[0;34m\u001b[0m\u001b[0m\n\u001b[1;32m    734\u001b[0m                 \u001b[0;31m# re-raise KeyboardInterrupt, to truncate traceback\u001b[0m\u001b[0;34m\u001b[0m\u001b[0;34m\u001b[0m\u001b[0;34m\u001b[0m\u001b[0m\n\u001b[0;32m--> 735\u001b[0;31m                 \u001b[0;32mraise\u001b[0m \u001b[0mKeyboardInterrupt\u001b[0m\u001b[0;34m\u001b[0m\u001b[0;34m\u001b[0m\u001b[0m\n\u001b[0m\u001b[1;32m    736\u001b[0m             \u001b[0;32melse\u001b[0m\u001b[0;34m:\u001b[0m\u001b[0;34m\u001b[0m\u001b[0;34m\u001b[0m\u001b[0m\n\u001b[1;32m    737\u001b[0m                 \u001b[0;32mbreak\u001b[0m\u001b[0;34m\u001b[0m\u001b[0;34m\u001b[0m\u001b[0m\n",
            "\u001b[0;31mKeyboardInterrupt\u001b[0m: "
          ]
        }
      ]
    },
    {
      "cell_type": "code",
      "metadata": {
        "id": "b6fVGupuMPih",
        "colab_type": "code",
        "colab": {}
      },
      "source": [
        "!ls /gdrive/My\\ Drive/foocardata/cars/steelroses"
      ],
      "execution_count": 0,
      "outputs": []
    },
    {
      "cell_type": "code",
      "metadata": {
        "id": "gckGhlXliD1s",
        "colab_type": "code",
        "outputId": "c2c8bb9a-c1b3-4bca-8ce5-75ff124d31b4",
        "colab": {
          "base_uri": "https://localhost:8080/",
          "height": 141
        }
      },
      "source": [
        "!ls /content\n",
        "!mkdir -p /content/data/cars/steelroses\n",
        "%cd /content/data/cars/steelroses\n",
        "!tar xvzf /gdrive/My\\ Drive/foocardata/cars/steelroses/steelroses.collected.tar.gz \n"
      ],
      "execution_count": 23,
      "outputs": [
        {
          "output_type": "stream",
          "text": [
            "adc.json  foocars  sample_data\tsteelroses.collected.tar.gz\n",
            "/content/data/cars/steelroses\n",
            "tar (child): /gdrive/My Drive/foocardata/cars/steelroses/steelroses.collected.tar.gz: Cannot open: No such file or directory\n",
            "tar (child): Error is not recoverable: exiting now\n",
            "tar: Child returned status 2\n",
            "tar: Error is not recoverable: exiting now\n"
          ],
          "name": "stdout"
        }
      ]
    },
    {
      "cell_type": "code",
      "metadata": {
        "id": "DAAsq6PfpUGN",
        "colab_type": "code",
        "outputId": "cd9ca826-174a-4020-e0dd-a03fdae97b99",
        "colab": {
          "base_uri": "https://localhost:8080/",
          "height": 35
        }
      },
      "source": [
        "!pwd\n",
        "!ls /content/data/cars/steelroses"
      ],
      "execution_count": 26,
      "outputs": [
        {
          "output_type": "stream",
          "text": [
            "/content/data/cars\n"
          ],
          "name": "stdout"
        }
      ]
    },
    {
      "cell_type": "code",
      "metadata": {
        "id": "UcF3R4ARqjGb",
        "colab_type": "code",
        "outputId": "47eb7608-0320-46bb-ffb4-0bb31d0ecf2c",
        "colab": {
          "base_uri": "https://localhost:8080/",
          "height": 35
        }
      },
      "source": [
        "%cd /content/foocars/training/\n"
      ],
      "execution_count": 27,
      "outputs": [
        {
          "output_type": "stream",
          "text": [
            "/content/foocars/training\n"
          ],
          "name": "stdout"
        }
      ]
    },
    {
      "cell_type": "code",
      "metadata": {
        "id": "28cJhOcRbc8R",
        "colab_type": "code",
        "outputId": "8ffdb0d5-aebc-42f5-9037-5679cfca353c",
        "colab": {
          "base_uri": "https://localhost:8080/",
          "height": 52
        }
      },
      "source": [
        "!ls"
      ],
      "execution_count": 28,
      "outputs": [
        {
          "output_type": "stream",
          "text": [
            "defines.py\t  history_model.py  train_history.py\n",
            "dropout_model.py  readme.md\t    train.py\n"
          ],
          "name": "stdout"
        }
      ]
    },
    {
      "cell_type": "code",
      "metadata": {
        "id": "_qHVj6LJ0PsO",
        "colab_type": "code",
        "outputId": "584510c6-0361-4c98-b729-9194e460f621",
        "colab": {
          "base_uri": "https://localhost:8080/",
          "height": 107
        }
      },
      "source": [
        "!pipenv run train.py #THIS IS A TEST\n"
      ],
      "execution_count": 29,
      "outputs": [
        {
          "output_type": "stream",
          "text": [
            "\u001b[31m\u001b[1mWarning\u001b[39m\u001b[22m: Your Pipfile requires \u001b[39m\u001b[1mpython_version\u001b[39m\u001b[22m \u001b[34m\u001b[22m3.*\u001b[39m\u001b[22m, but you are using \u001b[34m\u001b[22m3.6.7\u001b[39m\u001b[22m (\u001b[32m\u001b[22m/root/.local/share/v/f/bin/python\u001b[39m\u001b[22m).\n",
            "  \u001b[32m\u001b[22m$ pipenv --rm\u001b[39m\u001b[22m and rebuilding the virtual environment may resolve the issue.\n",
            "  \u001b[31m\u001b[22m$ pipenv check\u001b[39m\u001b[22m will surely fail.\n",
            "\u001b[31m\u001b[1mError\u001b[39m\u001b[22m: the command \u001b[31m\u001b[22mtrain.py\u001b[39m\u001b[22m could not be found within \u001b[39m\u001b[1mPATH\u001b[39m\u001b[22m or Pipfile's \u001b[39m\u001b[1m[scripts]\u001b[39m\u001b[22m.\n",
            "\u001b[0m"
          ],
          "name": "stdout"
        }
      ]
    },
    {
      "cell_type": "code",
      "metadata": {
        "id": "r4NxIhCwrXFY",
        "colab_type": "code",
        "outputId": "078a96f0-1d2e-449e-be27-92d63b35fa9b",
        "colab": {
          "base_uri": "https://localhost:8080/",
          "height": 121
        }
      },
      "source": [
        "!python train.py"
      ],
      "execution_count": 30,
      "outputs": [
        {
          "output_type": "stream",
          "text": [
            "Using TensorFlow backend.\n",
            "usage: train.py [-h] [--weight_filename WEIGHT_FILENAME]\n",
            "                [--init_weights INIT_WEIGHTS] [--delay DELAY]\n",
            "                [--epochs EPOCHS] [--save_frequency SAVE_FREQUENCY]\n",
            "                directories [directories ...]\n",
            "train.py: error: the following arguments are required: directories\n"
          ],
          "name": "stdout"
        }
      ]
    },
    {
      "cell_type": "code",
      "metadata": {
        "id": "49Un0mi-x8RZ",
        "colab_type": "code",
        "outputId": "9a88db44-a6d5-475a-ce69-5731da09fa24",
        "colab": {
          "base_uri": "https://localhost:8080/",
          "height": 173
        }
      },
      "source": [
        "!pip list | grep tensor\n"
      ],
      "execution_count": 0,
      "outputs": [
        {
          "output_type": "stream",
          "text": [
            "mesh-tensorflow          0.0.5                \n",
            "tensor2tensor            1.11.0               \n",
            "tensorboard              1.13.1               \n",
            "tensorboardcolab         0.0.22               \n",
            "tensorflow               1.13.1               \n",
            "tensorflow-estimator     1.13.0               \n",
            "tensorflow-hub           0.4.0                \n",
            "tensorflow-metadata      0.13.0               \n",
            "tensorflow-probability   0.6.0                \n"
          ],
          "name": "stdout"
        }
      ]
    },
    {
      "cell_type": "code",
      "metadata": {
        "id": "Jasn-thyubBY",
        "colab_type": "code",
        "outputId": "561d1fd4-6813-45de-9e85-b0b304f796f9",
        "colab": {
          "base_uri": "https://localhost:8080/",
          "height": 1389
        }
      },
      "source": [
        "!python train.py --epochs 10 --save_frequency 2 /content/data/cars/steelroses/collected"
      ],
      "execution_count": 0,
      "outputs": [
        {
          "output_type": "stream",
          "text": [
            "Using TensorFlow backend.\n",
            "train.py:52: RuntimeWarning: Mean of empty slice.\n",
            "  steerSampleMean=steer.mean()\n",
            "/usr/local/lib/python3.6/dist-packages/numpy/core/_methods.py:85: RuntimeWarning: invalid value encountered in double_scalars\n",
            "  ret = ret.dtype.type(ret / rcount)\n",
            "/usr/local/lib/python3.6/dist-packages/numpy/core/_methods.py:140: RuntimeWarning: Degrees of freedom <= 0 for slice\n",
            "  keepdims=keepdims)\n",
            "/usr/local/lib/python3.6/dist-packages/numpy/core/_methods.py:110: RuntimeWarning: invalid value encountered in true_divide\n",
            "  arrmean, rcount, out=arrmean, casting='unsafe', subok=False)\n",
            "/usr/local/lib/python3.6/dist-packages/numpy/core/_methods.py:132: RuntimeWarning: invalid value encountered in double_scalars\n",
            "  ret = ret.dtype.type(ret / rcount)\n",
            "adding first convolutional layer\n",
            "WARNING:tensorflow:From /usr/local/lib/python3.6/dist-packages/tensorflow/python/framework/op_def_library.py:263: colocate_with (from tensorflow.python.framework.ops) is deprecated and will be removed in a future version.\n",
            "Instructions for updating:\n",
            "Colocations handled automatically by placer.\n",
            "WARNING:tensorflow:From /usr/local/lib/python3.6/dist-packages/keras/backend/tensorflow_backend.py:3445: calling dropout (from tensorflow.python.ops.nn_ops) with keep_prob is deprecated and will be removed in a future version.\n",
            "Instructions for updating:\n",
            "Please use `rate` instead of `keep_prob`. Rate should be set to `rate = 1 - keep_prob`.\n",
            "adding second convolutional layer\n",
            "adding third convolutional layer\n",
            "adding fourth convolutional layer\n",
            "adding fifth convolutional layer\n",
            "adding fully connected layer\n",
            "adding output layer\n",
            "_________________________________________________________________\n",
            "Layer (type)                 Output Shape              Param #   \n",
            "=================================================================\n",
            "conv2d_1 (Conv2D)            (None, 18, 64, 24)        1824      \n",
            "_________________________________________________________________\n",
            "dropout_1 (Dropout)          (None, 18, 64, 24)        0         \n",
            "_________________________________________________________________\n",
            "conv2d_2 (Conv2D)            (None, 9, 32, 32)         19232     \n",
            "_________________________________________________________________\n",
            "dropout_2 (Dropout)          (None, 9, 32, 32)         0         \n",
            "_________________________________________________________________\n",
            "conv2d_3 (Conv2D)            (None, 5, 16, 40)         32040     \n",
            "_________________________________________________________________\n",
            "dropout_3 (Dropout)          (None, 5, 16, 40)         0         \n",
            "_________________________________________________________________\n",
            "conv2d_4 (Conv2D)            (None, 3, 8, 48)          17328     \n",
            "_________________________________________________________________\n",
            "dropout_4 (Dropout)          (None, 3, 8, 48)          0         \n",
            "_________________________________________________________________\n",
            "conv2d_5 (Conv2D)            (None, 2, 4, 48)          20784     \n",
            "_________________________________________________________________\n",
            "dropout_5 (Dropout)          (None, 2, 4, 48)          0         \n",
            "_________________________________________________________________\n",
            "flatten_1 (Flatten)          (None, 384)               0         \n",
            "_________________________________________________________________\n",
            "dense_1 (Dense)              (None, 100)               38500     \n",
            "_________________________________________________________________\n",
            "dropout_6 (Dropout)          (None, 100)               0         \n",
            "_________________________________________________________________\n",
            "dense_2 (Dense)              (None, 1)                 101       \n",
            "=================================================================\n",
            "Total params: 129,809\n",
            "Trainable params: 129,809\n",
            "Non-trainable params: 0\n",
            "_________________________________________________________________\n",
            "None\n",
            "starting epoch 0\n",
            "WARNING:tensorflow:From /usr/local/lib/python3.6/dist-packages/tensorflow/python/ops/math_ops.py:3066: to_int32 (from tensorflow.python.ops.math_ops) is deprecated and will be removed in a future version.\n",
            "Instructions for updating:\n",
            "Use tf.cast instead.\n",
            "Train on 0 samples, validate on 0 samples\n",
            "Epoch 1/1\n",
            "Traceback (most recent call last):\n",
            "  File \"train.py\", line 96, in <module>\n",
            "    batch_size=25, epochs=1, verbose=1, validation_split=0.1, shuffle=True)\n",
            "  File \"/usr/local/lib/python3.6/dist-packages/keras/engine/training.py\", line 1039, in fit\n",
            "    validation_steps=validation_steps)\n",
            "  File \"/usr/local/lib/python3.6/dist-packages/keras/engine/training_arrays.py\", line 217, in fit_loop\n",
            "    callbacks.on_epoch_end(epoch, epoch_logs)\n",
            "  File \"/usr/local/lib/python3.6/dist-packages/keras/callbacks.py\", line 79, in on_epoch_end\n",
            "    callback.on_epoch_end(epoch, logs)\n",
            "  File \"/usr/local/lib/python3.6/dist-packages/keras/callbacks.py\", line 338, in on_epoch_end\n",
            "    self.progbar.update(self.seen, self.log_values)\n",
            "AttributeError: 'ProgbarLogger' object has no attribute 'log_values'\n"
          ],
          "name": "stdout"
        }
      ]
    },
    {
      "cell_type": "markdown",
      "metadata": {
        "id": "InYmY9lkxmrc",
        "colab_type": "text"
      },
      "source": [
        "## What are steerstats \n",
        "\n",
        "Let's look"
      ]
    },
    {
      "cell_type": "code",
      "metadata": {
        "id": "fO7U8sqpxrd-",
        "colab_type": "code",
        "colab": {}
      },
      "source": [
        "!ls"
      ],
      "execution_count": 0,
      "outputs": []
    },
    {
      "cell_type": "code",
      "metadata": {
        "id": "NbI5Tt0YytJ2",
        "colab_type": "code",
        "colab": {}
      },
      "source": [
        ""
      ],
      "execution_count": 0,
      "outputs": []
    },
    {
      "cell_type": "markdown",
      "metadata": {
        "id": "2vVZnbXmxs0j",
        "colab_type": "text"
      },
      "source": [
        "## Download weights and steerstats"
      ]
    },
    {
      "cell_type": "code",
      "metadata": {
        "id": "Z0GBQCFNyOOT",
        "colab_type": "code",
        "colab": {}
      },
      "source": [
        "# get car files and download\n",
        "!tar cvzf car.weights.tar.gz *.h5 *.npz\n",
        "!rm *.h5 *.npz"
      ],
      "execution_count": 0,
      "outputs": []
    },
    {
      "cell_type": "code",
      "metadata": {
        "id": "Kuf8QyfuzGb9",
        "colab_type": "code",
        "colab": {}
      },
      "source": [
        "#remove results\n",
        "!rm *.h5 *.npz"
      ],
      "execution_count": 0,
      "outputs": []
    },
    {
      "cell_type": "code",
      "metadata": {
        "id": "fs0qI4NjzNJ4",
        "colab_type": "code",
        "colab": {}
      },
      "source": [
        "!mkdir -p /content/data/cars/steelroses/model\n",
        "!tar xvzf car.weights.tar.gz -C /content/data/cars/steelroses/model/"
      ],
      "execution_count": 0,
      "outputs": []
    },
    {
      "cell_type": "code",
      "metadata": {
        "id": "4By3H84LymGN",
        "colab_type": "code",
        "colab": {}
      },
      "source": [
        "from google.colab import files\n",
        "files.download('car.weights.tar.gz')"
      ],
      "execution_count": 0,
      "outputs": []
    },
    {
      "cell_type": "markdown",
      "metadata": {
        "id": "BdEHNyjI0CWk",
        "colab_type": "text"
      },
      "source": [
        "## Examine the weights and steer stats\n",
        "\n",
        "What does the computer think should happen?"
      ]
    },
    {
      "cell_type": "code",
      "metadata": {
        "id": "RwiGnlcR0KOE",
        "colab_type": "code",
        "colab": {}
      },
      "source": [
        "steerstats = np.load('/content/data/cars/steelroses/model/steerstats.npz')\n"
      ],
      "execution_count": 0,
      "outputs": []
    },
    {
      "cell_type": "code",
      "metadata": {
        "id": "MZLhj4v40xKT",
        "colab_type": "code",
        "colab": {}
      },
      "source": [
        "print(type(steerstats))\n",
        "steerstats.keys()\n"
      ],
      "execution_count": 0,
      "outputs": []
    },
    {
      "cell_type": "code",
      "metadata": {
        "id": "WJ6E_aUI1UVP",
        "colab_type": "code",
        "colab": {}
      },
      "source": [
        "steerstats['arr_0'][0:10]\n"
      ],
      "execution_count": 0,
      "outputs": []
    },
    {
      "cell_type": "markdown",
      "metadata": {
        "id": "VKHhp7de7SJJ",
        "colab_type": "text"
      },
      "source": [
        "## Examine the collected data\n",
        "\n"
      ]
    },
    {
      "cell_type": "code",
      "metadata": {
        "id": "V2jjkl1f49Ga",
        "colab_type": "code",
        "colab": {}
      },
      "source": [
        "# commands.npz\n",
        "commands = np.load('/content/data/cars/steelroses/collected/commands_2018-12-06_12-54-17.npz'  )\n",
        "print(type(commands))\n"
      ],
      "execution_count": 0,
      "outputs": []
    },
    {
      "cell_type": "code",
      "metadata": {
        "id": "S4b5nQBX5Cqe",
        "colab_type": "code",
        "colab": {}
      },
      "source": [
        "print(commands.keys())\n",
        "commands['arr_0'][0:10]"
      ],
      "execution_count": 0,
      "outputs": []
    },
    {
      "cell_type": "code",
      "metadata": {
        "id": "Xgx1KXBF5Cxa",
        "colab_type": "code",
        "colab": {}
      },
      "source": [
        "# IME npz\n",
        "imu = np.load('/content/data/cars/steelroses/collected/IMU_2018-12-06_12-54-17.npz')\n",
        "print(type(imu))"
      ],
      "execution_count": 0,
      "outputs": []
    },
    {
      "cell_type": "code",
      "metadata": {
        "id": "hzXYqEaZ4F1m",
        "colab_type": "code",
        "colab": {}
      },
      "source": [
        "print(imu.keys())\n",
        "imu['arr_0'][0:10]"
      ],
      "execution_count": 0,
      "outputs": []
    },
    {
      "cell_type": "markdown",
      "metadata": {
        "id": "JqU42eNG4axC",
        "colab_type": "text"
      },
      "source": [
        "## What images were collected"
      ]
    },
    {
      "cell_type": "code",
      "metadata": {
        "id": "t-t3B0jt4dQP",
        "colab_type": "code",
        "colab": {}
      },
      "source": [
        "images = np.load('/content/data/cars/steelroses/collected/imgs_2018-12-06_12-54-17.npz')\n",
        "print(type(images))\n",
        "\n"
      ],
      "execution_count": 0,
      "outputs": []
    },
    {
      "cell_type": "code",
      "metadata": {
        "id": "GqAWBP0n4q_z",
        "colab_type": "code",
        "colab": {}
      },
      "source": [
        "print(images.keys())\n",
        "images['arr_0'][0]"
      ],
      "execution_count": 0,
      "outputs": []
    },
    {
      "cell_type": "code",
      "metadata": {
        "id": "l4qWGFfM8Aml",
        "colab_type": "code",
        "colab": {}
      },
      "source": [
        "#image3 = np.reshape(image3, (8,8,3))\n",
        "imgplot = plt.imshow(images['arr_0'][0])"
      ],
      "execution_count": 0,
      "outputs": []
    },
    {
      "cell_type": "code",
      "metadata": {
        "id": "EBfxHmSS-0e7",
        "colab_type": "code",
        "colab": {}
      },
      "source": [
        "## Make a video clip\n",
        "# Tutorial: https://www.apriorit.com/dev-blog/600-colab-for-video-processing\n",
        "\n",
        "import cv2\n",
        "#import skimage.io\n",
        "#from matplotlib.patches import Polygon\n",
        "# VIDEO_FORMAT = \"MP4V\"\n",
        "# VIDEO_EXT = 'mp4'\n",
        "\n",
        "VIDEO_FORMAT = 'VP90'\n",
        "VIDEO_EXT = 'webm'\n",
        "\n",
        "VIDEO_OUT = '/content/data/output.' + VIDEO_EXT\n",
        "IMG_IN = '/content/data/cars/steelroses/collected/imgs_2018-12-06_12-54-17.npz'"
      ],
      "execution_count": 0,
      "outputs": []
    },
    {
      "cell_type": "code",
      "metadata": {
        "id": "ZTM4FmEE__f6",
        "colab_type": "code",
        "colab": {}
      },
      "source": [
        "image = images['arr_0'][0]\n",
        "print(image.shape)\n",
        "\n",
        "fourcc = cv2.VideoWriter_fourcc(*VIDEO_FORMAT)\n",
        "writer = cv2.VideoWriter(VIDEO_OUT, fourcc, 30, (image.shape[1], image.shape[0]), True)\n"
      ],
      "execution_count": 0,
      "outputs": []
    },
    {
      "cell_type": "code",
      "metadata": {
        "id": "M-EyQB0iIe0L",
        "colab_type": "code",
        "colab": {}
      },
      "source": [
        "#imgdata = np.load(IMG_IN)['arr_0'].astype('float32')\n",
        "imgdata = np.load(IMG_IN)['arr_0']\n",
        "print(f'\\nShape: {imgdata.shape}\\n')\n",
        "\n",
        "\n",
        "#ITERATE  the first dimension and get the image from the rest\n",
        "for index in tqdm(range(0,len(imgdata))):\n",
        "  img = imgdata[index]\n",
        "  writer.write(img)\n",
        "\n",
        "writer.release()\n",
        "print(f'Done: {VIDEO_OUT}')\n"
      ],
      "execution_count": 0,
      "outputs": []
    },
    {
      "cell_type": "code",
      "metadata": {
        "id": "SbYspbgSWXTm",
        "colab_type": "code",
        "colab": {}
      },
      "source": [
        "\n",
        "!ls /content/data"
      ],
      "execution_count": 0,
      "outputs": []
    },
    {
      "cell_type": "code",
      "metadata": {
        "id": "uVkn-ZcctBnP",
        "colab_type": "code",
        "colab": {}
      },
      "source": [
        "#Svae video locally\n",
        "from google.colab import files\n",
        "files.download(VIDEO_OUT)"
      ],
      "execution_count": 0,
      "outputs": []
    },
    {
      "cell_type": "code",
      "metadata": {
        "id": "XuwUvkWLcrmK",
        "colab_type": "code",
        "colab": {}
      },
      "source": [
        "from IPython.core.display import Video\n",
        "\n",
        "Video(VIDEO_OUT)\n"
      ],
      "execution_count": 0,
      "outputs": []
    },
    {
      "cell_type": "code",
      "metadata": {
        "id": "RTPyX9i8YTVx",
        "colab_type": "code",
        "colab": {}
      },
      "source": [
        "# The dynamic video tag is not showing. Maybe, do this in javacsript\n",
        "from IPython.core.display import display, HTML\n",
        "\n",
        "\n",
        "HTML_SRC = \"\"\"<video width=\"400\" height=\"200\">\n",
        "<source src=\"/content/data/output.webm\" type=\"video/x-webm\"></source>\n",
        "</video>\"\"\"\n",
        "print(HTML_SRC)\n",
        "\n",
        "\n",
        "\n",
        "             \n",
        "display(HTML(HTML_SRC))             "
      ],
      "execution_count": 0,
      "outputs": []
    },
    {
      "cell_type": "markdown",
      "metadata": {
        "id": "p3jiLd13thvA",
        "colab_type": "text"
      },
      "source": [
        "# Consulting the Model"
      ]
    },
    {
      "cell_type": "code",
      "metadata": {
        "id": "BMoFo8XN3sO-",
        "colab_type": "code",
        "colab": {}
      },
      "source": [
        "import keras\n",
        "import tensorflow as tf\n",
        "import concurrent.futures\n",
        "from dropout_model import model\n",
        "from defines import *\n",
        "\n",
        "\n"
      ],
      "execution_count": 0,
      "outputs": []
    },
    {
      "cell_type": "code",
      "metadata": {
        "id": "c2hRE_HVwSkj",
        "colab_type": "code",
        "colab": {}
      },
      "source": [
        "! ls /content/data/cars/steelroses/model"
      ],
      "execution_count": 0,
      "outputs": []
    },
    {
      "cell_type": "code",
      "metadata": {
        "id": "FreGpfk_vvas",
        "colab_type": "code",
        "colab": {}
      },
      "source": [
        "DATA_DIR = '/content/data/cars'\n",
        "CAR_NAME = 'steelroses'\n",
        "WEIGHTS_DIR = DATA_DIR + \"/\" + CAR_NAME + '/model/'\n",
        "WEIGHTS_FILE = WEIGHTS_DIR + 'weights_2019-04-06_13-00-23_epoch_4.h5'\n",
        "STEERSTATS_FILE = DATA_DIR + \"/\" + CAR_NAME + '/model/steerstats.npz'\n",
        "print(WEIGHTS_FILE)\n",
        "print(STEERSTATS_FILE)\n",
        "\n"
      ],
      "execution_count": 0,
      "outputs": []
    },
    {
      "cell_type": "code",
      "metadata": {
        "id": "Y01QwVTmxdTF",
        "colab_type": "code",
        "colab": {}
      },
      "source": [
        "# Use Dropout Model\n",
        "# https://github.com/fubarlabs/foocars/blob/1e6b2bccac5b8595fd053816d9117169d35ae3a1/training/dropout_model.py\n",
        "\n",
        "\n",
        "import keras\n",
        "from keras.models import Sequential\n",
        "from keras.layers.core import Dense, Dropout, Activation, Flatten, Reshape\n",
        "from keras.layers import Embedding, Input, merge\n",
        "from keras.layers.convolutional import Conv2D, MaxPooling2D\n",
        "from keras.optimizers import Adam, SGD\n",
        "from keras.regularizers import l2, l1\n",
        "from keras.utils.np_utils import to_categorical\n",
        "from keras.layers.normalization import BatchNormalization\n",
        "from keras import backend as K\n",
        "\n",
        "\n",
        "\n",
        "nrows=36\n",
        "ncols=128\n",
        "wr=0.00001 # l1 regularizer value\n",
        "dp=0.125 # dropout rate \n",
        "\n",
        "# Note: Dan used the keras functional paradigm to define his network.\n",
        "# I'm using the sequential paradigm. \n",
        "model=Sequential()\n",
        "frame_in = Input(shape=(3, nrows, ncols), name='img_input')\n",
        "\n",
        "#we should do a local contrast normalization\n",
        "\n",
        "print(\"adding first convolutional layer\")\n",
        "#5x5 convolutional layer with a stride of 2\n",
        "#model.add(BatchNormalization(input_shape=(nrows, ncols, 3)))\n",
        "model.add(Conv2D(24, (5, 5), input_shape=(nrows, ncols, 3), strides=(2, 2), activation='elu', padding='same', kernel_initializer='lecun_uniform'))\n",
        "#model.add(MaxPooling2D(pool_size=(2, 2), data_format=\"channels_last\"))\n",
        "model.add(Dropout(dp))\n",
        "\n",
        "print(\"adding second convolutional layer\")\n",
        "#5x5 convolutional layer with a stride of 2\n",
        "#model.add(BatchNormalization())\n",
        "model.add(Conv2D(32, (5, 5), strides=(2, 2), activation='elu', padding='same', kernel_initializer='lecun_uniform'))\n",
        "#model.add(MaxPooling2D(pool_size=(2, 2), data_format=\"channels_last\"))\n",
        "model.add(Dropout(dp))\n",
        "\n",
        "print(\"adding third convolutional layer\")\n",
        "#5x5 convolutional layer with a stride of 2\n",
        "#model.add(BatchNormalization())\n",
        "model.add(Conv2D(40, (5, 5), strides=(2, 2), activation='elu', padding='same', kernel_initializer='lecun_uniform'))\n",
        "#model.add(MaxPooling2D(pool_size=(2, 2), data_format=\"channels_last\"))\n",
        "model.add(Dropout(dp))\n",
        "\n",
        "print(\"adding fourth convolutional layer\")\n",
        "#3x3 convolutional layer with no stride \n",
        "#model.add(BatchNormalization())\n",
        "model.add(Conv2D(48, (3, 3), strides=(2, 2), activation='elu', padding='same', kernel_initializer='lecun_uniform'))\n",
        "#model.add(MaxPooling2D(pool_size=(2, 2), data_format=\"channels_last\"))\n",
        "model.add(Dropout(dp))\n",
        "\n",
        "print(\"adding fifth convolutional layer\")\n",
        "#3x3 convolutional layer with no stride \n",
        "#model.add(BatchNormalization())\n",
        "model.add(Conv2D(48, (3, 3), strides=(2, 2), activation='elu', padding='same', kernel_initializer='lecun_uniform'))\n",
        "#model.add(MaxPooling2D(pool_size=(2, 2), data_format=\"channels_last\"))\n",
        "#model.add(BatchNormalization())\n",
        "model.add(Dropout(dp))\n",
        "\n",
        "\n",
        "model.add(Flatten())\n",
        "\n",
        "print(\"adding fully connected layer\")\n",
        "#fully connected layer\n",
        "model.add(Dense(100, activation='elu', kernel_initializer='lecun_uniform'))\n",
        "model.add(Dropout(dp))\n",
        "\n",
        "print(\"adding output layer\")\n",
        "#fully connected layer to output node\n",
        "model.add(Dense(1, activation='linear', kernel_initializer='lecun_uniform'))\n",
        "\n",
        "model.compile(loss=['mse'], optimizer=SGD(lr=0.001, decay=1e-6, momentum=0.9, nesterov=True), metrics=['mse'])\n",
        "print(model.summary())\n"
      ],
      "execution_count": 0,
      "outputs": []
    },
    {
      "cell_type": "code",
      "metadata": {
        "id": "PKfqNzEcuk_z",
        "colab_type": "code",
        "colab": {}
      },
      "source": [
        "  model.load_weights(WEIGHTS_FILE)\n",
        "  model._make_predict_function()\n",
        "  global g_steerstats\n",
        "  g_steerstats=np.load(STEERSTATS_FILE)['arr_0']\n",
        "  \n",
        "  #g_camera=picamera.PiCamera()\n",
        "  #g_camera.resolution=(128, 96)\n",
        "  #g_camera.framerate=FRAME_RATE"
      ],
      "execution_count": 0,
      "outputs": []
    },
    {
      "cell_type": "code",
      "metadata": {
        "id": "xqAQZOVQyseX",
        "colab_type": "code",
        "colab": {}
      },
      "source": [
        "#defines image size:\n",
        "row_offset=30\n",
        "nrows=36\n",
        "ncols=128\n",
        "\n",
        "\n",
        "#imgdata = np.load(IMG_IN)['arr_0'].astype('float32')\n",
        "imgdata = np.load(IMG_IN)['arr_0']\n",
        "print(f'\\nShape: {imgdata.shape}\\n')\n",
        "\n",
        "index = 1\n",
        "img = imgdata[index]\n",
        "\n",
        "# Image must be in the shape the model is using\n",
        "#ValueError: Error when checking input: expected conv2d_6_input to have shape (36, 128, 3) but got array with shape (96, 128, 3)\n",
        "# original image shape (200, 96, 128, 3)\n",
        "\n",
        "#imagerawdata=np.reshape(np.fromstring(s, dtype=np.uint8), (96, 128, 3), 'C')\n",
        "#imdata=imagerawdata[20:56, :]\n",
        "\n",
        "immean=img.mean()\n",
        "imvar=img.std()\n",
        "g_imageData=np.copy((imgdata-immean)/imvar)\n",
        "fimg = g_imageData[0]\n",
        "\n",
        "crop_image=fimg[row_offset:row_offset+nrows, :]\n",
        "image_mean=crop_image.mean()\n",
        "image_std=crop_image.std()\n",
        "guess_image=(crop_image-image_mean)/image_std\n",
        "\n",
        "\n",
        "#The actual prediction\n",
        "pred=model.predict(np.expand_dims(guess_image, axis=0))      \n",
        "steer_command=pred[0][0]*g_steerstats[1]+g_steerstats[0]\n",
        "\n",
        "print(f'pred: {pred}, steer: {steer_command}')"
      ],
      "execution_count": 0,
      "outputs": []
    },
    {
      "cell_type": "code",
      "metadata": {
        "id": "fBGeHrKAciWP",
        "colab_type": "code",
        "colab": {}
      },
      "source": [
        "!ls"
      ],
      "execution_count": 0,
      "outputs": []
    }
  ]
}