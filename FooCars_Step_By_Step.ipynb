{
  "nbformat": 4,
  "nbformat_minor": 0,
  "metadata": {
    "colab": {
      "name": " FooCars Step By Step",
      "version": "0.3.2",
      "provenance": [],
      "collapsed_sections": [],
      "toc_visible": true,
      "include_colab_link": true
    },
    "kernelspec": {
      "name": "python3",
      "display_name": "Python 3"
    },
    "accelerator": "GPU"
  },
  "cells": [
    {
      "cell_type": "markdown",
      "metadata": {
        "id": "view-in-github",
        "colab_type": "text"
      },
      "source": [
        "<a href=\"https://colab.research.google.com/github/lcipolina/foocars/blob/lucia/FooCars_Step_By_Step.ipynb\" target=\"_parent\"><img src=\"https://colab.research.google.com/assets/colab-badge.svg\" alt=\"Open In Colab\"/></a>"
      ]
    },
    {
      "metadata": {
        "id": "i5ejv-Jt8D__",
        "colab_type": "text"
      },
      "cell_type": "markdown",
      "source": [
        "# What is Foocars and why should I care?\n",
        "\n",
        "Foocars is an inexpensive open source autonomous car driving system. It uses machine learning to create a robust method of driving cars around cones and obstaces.  \"Cars\" is broad term in this case. It's been used on toy cars, RC Cars, and single seater Power Wheels vehicles. This is an extremely low cost and robust option to get started in understanding autonomous vehicles.\n",
        "\n",
        "For this project we''ll use the RC car version and work out how the car trains and later makes decisions based on the collected training data.\n"
      ]
    },
    {
      "metadata": {
        "id": "ZAwcWUHr7-uw",
        "colab_type": "code",
        "colab": {}
      },
      "cell_type": "code",
      "source": [
        "import numpy as np\n",
        "import matplotlib.pyplot as plt\n",
        "from skimage import io\n",
        "from tqdm import tqdm\n",
        "\n",
        "# https://matplotlib.org/api/image_api.html\n",
        "# https://matplotlib.org/users/image_tutorial.html\n",
        "#import matplotlib.image as mpimg\n",
        "#%matplotlib inline\n"
      ],
      "execution_count": 0,
      "outputs": []
    },
    {
      "metadata": {
        "id": "V0tGN0AY84dj",
        "colab_type": "text"
      },
      "cell_type": "markdown",
      "source": [
        "# The Foocars project \n",
        "\n",
        "It's located here: https://foocars.io\n",
        "\n",
        "The main working repository for the project is here: https://github.com/fubarlabs/foocars"
      ]
    },
    {
      "metadata": {
        "id": "O40jGjx6do7Y",
        "colab_type": "code",
        "outputId": "e6fbe07d-9be5-418a-a96e-95264b23b581",
        "colab": {
          "base_uri": "https://localhost:8080/",
          "height": 99
        }
      },
      "cell_type": "code",
      "source": [
        "%env USERNAME=lcipolina\n",
        "!echo $USERNAME\n",
        "!echo https://github.com/$USERNAME/foocars.git\n"
      ],
      "execution_count": 0,
      "outputs": [
        {
          "output_type": "stream",
          "text": [
            "env: USERNAME=lcipolina\n",
            "lcipolina\n",
            "https://github.com/lcipolina/foocars.git\n"
          ],
          "name": "stdout"
        }
      ]
    },
    {
      "metadata": {
        "id": "JUMSIJwy9KB1",
        "colab_type": "code",
        "outputId": "059523d0-c0f6-41aa-8f89-7210ebc73eca",
        "colab": {
          "base_uri": "https://localhost:8080/",
          "height": 65
        }
      },
      "cell_type": "code",
      "source": [
        "# Create a Fork of the project in GitHub\n",
        "# Clone your Fork of the project\n",
        "!git clone https://github.com/$USERNAME/foocars.git"
      ],
      "execution_count": 0,
      "outputs": [
        {
          "output_type": "stream",
          "text": [
            "fatal: destination path 'foocars' already exists and is not an empty directory.\n"
          ],
          "name": "stdout"
        }
      ]
    },
    {
      "metadata": {
        "id": "5n2KtTT19Uwb",
        "colab_type": "code",
        "outputId": "2593c62b-aa27-4a4d-fadf-2542c533bf54",
        "colab": {
          "base_uri": "https://localhost:8080/",
          "height": 65
        }
      },
      "cell_type": "code",
      "source": [
        "!ls"
      ],
      "execution_count": 0,
      "outputs": [
        {
          "output_type": "stream",
          "text": [
            "foocars  Pipfile  sample_data\n"
          ],
          "name": "stdout"
        }
      ]
    },
    {
      "metadata": {
        "id": "B53ESA5-9b6A",
        "colab_type": "code",
        "outputId": "8e7551c6-9663-40e6-b693-593b83b335fb",
        "colab": {
          "base_uri": "https://localhost:8080/",
          "height": 35
        }
      },
      "cell_type": "code",
      "source": [
        "%cd foocars"
      ],
      "execution_count": 0,
      "outputs": [
        {
          "output_type": "stream",
          "text": [
            "/content/foocars\n"
          ],
          "name": "stdout"
        }
      ]
    },
    {
      "metadata": {
        "id": "loz3dozfjjW2",
        "colab_type": "code",
        "colab": {}
      },
      "cell_type": "code",
      "source": [
        ""
      ],
      "execution_count": 0,
      "outputs": []
    },
    {
      "metadata": {
        "id": "ir42Fo1ugl4L",
        "colab_type": "code",
        "colab": {}
      },
      "cell_type": "code",
      "source": [
        "!ls\n"
      ],
      "execution_count": 0,
      "outputs": []
    },
    {
      "metadata": {
        "id": "YJ1NzgqW9ihz",
        "colab_type": "code",
        "outputId": "b6c7d15e-1ae6-4545-cf69-83bc8ebe211c",
        "colab": {
          "base_uri": "https://localhost:8080/",
          "height": 178
        }
      },
      "cell_type": "code",
      "source": [
        "#install pipenv\n",
        "!pip install pipenv"
      ],
      "execution_count": 0,
      "outputs": [
        {
          "output_type": "stream",
          "text": [
            "Requirement already satisfied: pipenv in /usr/local/lib/python3.6/dist-packages (2018.11.26)\n",
            "Requirement already satisfied: pip>=9.0.1 in /usr/local/lib/python3.6/dist-packages (from pipenv) (19.0.3)\n",
            "Requirement already satisfied: certifi in /usr/local/lib/python3.6/dist-packages (from pipenv) (2019.3.9)\n",
            "Requirement already satisfied: setuptools>=36.2.1 in /usr/local/lib/python3.6/dist-packages (from pipenv) (40.9.0)\n",
            "Requirement already satisfied: virtualenv in /usr/local/lib/python3.6/dist-packages (from pipenv) (16.5.0)\n",
            "Requirement already satisfied: virtualenv-clone>=0.2.5 in /usr/local/lib/python3.6/dist-packages (from pipenv) (0.5.3)\n"
          ],
          "name": "stdout"
        }
      ]
    },
    {
      "metadata": {
        "id": "9aK-nROT9tBC",
        "colab_type": "code",
        "outputId": "916ccc96-5c05-4ad5-9cf0-c88b1ff4f92b",
        "colab": {
          "base_uri": "https://localhost:8080/",
          "height": 283
        }
      },
      "cell_type": "code",
      "source": [
        "!pipenv install --system"
      ],
      "execution_count": 0,
      "outputs": [
        {
          "output_type": "stream",
          "text": [
            "[pipenv.exceptions.PipenvOptionsError]:       return callback(*args, **kwargs)\n",
            "[pipenv.exceptions.PipenvOptionsError]:   File \"/usr/local/lib/python3.6/dist-packages/pipenv/vendor/click/decorators.py\", line 17, in new_func\n",
            "[pipenv.exceptions.PipenvOptionsError]:       return f(get_current_context(), *args, **kwargs)\n",
            "[pipenv.exceptions.PipenvOptionsError]:   File \"/usr/local/lib/python3.6/dist-packages/pipenv/cli/command.py\", line 254, in install\n",
            "[pipenv.exceptions.PipenvOptionsError]:       editable_packages=state.installstate.editables,\n",
            "[pipenv.exceptions.PipenvOptionsError]:   File \"/usr/local/lib/python3.6/dist-packages/pipenv/core.py\", line 1874, in do_install\n",
            "[pipenv.exceptions.PipenvOptionsError]:       keep_outdated=keep_outdated\n",
            "[pipenv.exceptions.PipenvOptionsError]:   File \"/usr/local/lib/python3.6/dist-packages/pipenv/core.py\", line 1230, in do_init\n",
            "[pipenv.exceptions.PipenvOptionsError]:       \"--system is intended to be used for Pipfile installation,\n",
            "[pipenv.exceptions.PipenvOptionsError]:       pipenv.exceptions.PipenvOptionsError: \u001b[31m\u001b[1mERROR:\u001b[39m\u001b[22m: \u001b[37m\u001b[1m--system is intended to be used for Pipfile installation, not installation of specific packages. Aborting.\n",
            "\u001b[31m\u001b[1mERROR:\u001b[39m\u001b[22m: \u001b[37m\u001b[1m--system is intended to be used for Pipfile installation, not installation of specific packages. Aborting.\n",
            "See also: --deploy flag.\u001b[39m\u001b[22m\n",
            "\u001b[0m"
          ],
          "name": "stdout"
        }
      ]
    },
    {
      "metadata": {
        "id": "_HQwMN1-GMGf",
        "colab_type": "code",
        "colab": {}
      },
      "cell_type": "code",
      "source": [
        "#!pipenv shell"
      ],
      "execution_count": 0,
      "outputs": []
    },
    {
      "metadata": {
        "id": "JLZF0BOKsH0i",
        "colab_type": "code",
        "colab": {}
      },
      "cell_type": "code",
      "source": [
        ""
      ],
      "execution_count": 0,
      "outputs": []
    },
    {
      "metadata": {
        "id": "kSEd47PrsSHV",
        "colab_type": "text"
      },
      "cell_type": "markdown",
      "source": [
        "# Environment is setup\n",
        "\n",
        "We can run the software for training. But first we need to map the data to be acceissble.\n",
        "\n",
        " 1. Get g drive access to a cars curated training data\n",
        " 2. Take a look at some of the images\n",
        " 3. Train on the data set\n",
        " 4. Select steerstats \n",
        " 5. Experiement let's look at steer stats\n",
        " 6. What happens when we give it an image, what predictin is made\n",
        " 7. Download the weights and steerstats to the car\n",
        " 8. Test by running on the car"
      ]
    },
    {
      "metadata": {
        "id": "XNoVFCbnLfUy",
        "colab_type": "code",
        "colab": {}
      },
      "cell_type": "code",
      "source": [
        ""
      ],
      "execution_count": 0,
      "outputs": []
    },
    {
      "metadata": {
        "id": "10LkxKaVLtgP",
        "colab_type": "code",
        "colab": {}
      },
      "cell_type": "code",
      "source": [
        "from google.colab import drive # needs auth code unless made public\n",
        "drive.mount('/gdrive')"
      ],
      "execution_count": 0,
      "outputs": []
    },
    {
      "metadata": {
        "id": "b6fVGupuMPih",
        "colab_type": "code",
        "colab": {}
      },
      "cell_type": "code",
      "source": [
        "!ls /gdrive/My\\ Drive/foocardata/cars/steelroses"
      ],
      "execution_count": 0,
      "outputs": []
    },
    {
      "metadata": {
        "id": "gckGhlXliD1s",
        "colab_type": "code",
        "colab": {}
      },
      "cell_type": "code",
      "source": [
        "!ls /content\n",
        "!mkdir -p /content/data/cars/steelroses\n",
        "%cd /content/data/cars/steelroses\n",
        "!tar xvzf /gdrive/My\\ Drive/foocardata/cars/steelroses/steelroses.collected.tar.gz \n"
      ],
      "execution_count": 0,
      "outputs": []
    },
    {
      "metadata": {
        "id": "DAAsq6PfpUGN",
        "colab_type": "code",
        "colab": {}
      },
      "cell_type": "code",
      "source": [
        "!pwd\n",
        "!ls /content/data/cars/steelroses"
      ],
      "execution_count": 0,
      "outputs": []
    },
    {
      "metadata": {
        "id": "UcF3R4ARqjGb",
        "colab_type": "code",
        "colab": {}
      },
      "cell_type": "code",
      "source": [
        "%cd /content/foocars/training/\n"
      ],
      "execution_count": 0,
      "outputs": []
    },
    {
      "metadata": {
        "id": "28cJhOcRbc8R",
        "colab_type": "code",
        "colab": {}
      },
      "cell_type": "code",
      "source": [
        "!ls"
      ],
      "execution_count": 0,
      "outputs": []
    },
    {
      "metadata": {
        "id": "r4NxIhCwrXFY",
        "colab_type": "code",
        "colab": {}
      },
      "cell_type": "code",
      "source": [
        "!python train.py"
      ],
      "execution_count": 0,
      "outputs": []
    },
    {
      "metadata": {
        "id": "Jasn-thyubBY",
        "colab_type": "code",
        "colab": {}
      },
      "cell_type": "code",
      "source": [
        "!python train.py --epochs 10 --save_frequency 2 /content/data/cars/steelroses/collected"
      ],
      "execution_count": 0,
      "outputs": []
    },
    {
      "metadata": {
        "id": "InYmY9lkxmrc",
        "colab_type": "text"
      },
      "cell_type": "markdown",
      "source": [
        "## What are steerstats \n",
        "\n",
        "Let's look"
      ]
    },
    {
      "metadata": {
        "id": "fO7U8sqpxrd-",
        "colab_type": "code",
        "colab": {}
      },
      "cell_type": "code",
      "source": [
        "!ls"
      ],
      "execution_count": 0,
      "outputs": []
    },
    {
      "metadata": {
        "id": "NbI5Tt0YytJ2",
        "colab_type": "code",
        "colab": {}
      },
      "cell_type": "code",
      "source": [
        ""
      ],
      "execution_count": 0,
      "outputs": []
    },
    {
      "metadata": {
        "id": "2vVZnbXmxs0j",
        "colab_type": "text"
      },
      "cell_type": "markdown",
      "source": [
        "## Download weights and steerstats"
      ]
    },
    {
      "metadata": {
        "id": "Z0GBQCFNyOOT",
        "colab_type": "code",
        "colab": {}
      },
      "cell_type": "code",
      "source": [
        "# get car files and download\n",
        "!tar cvzf car.weights.tar.gz *.h5 *.npz\n",
        "!rm *.h5 *.npz"
      ],
      "execution_count": 0,
      "outputs": []
    },
    {
      "metadata": {
        "id": "Kuf8QyfuzGb9",
        "colab_type": "code",
        "colab": {}
      },
      "cell_type": "code",
      "source": [
        "#remove results\n",
        "!rm *.h5 *.npz"
      ],
      "execution_count": 0,
      "outputs": []
    },
    {
      "metadata": {
        "id": "fs0qI4NjzNJ4",
        "colab_type": "code",
        "colab": {}
      },
      "cell_type": "code",
      "source": [
        "!mkdir -p /content/data/cars/steelroses/model\n",
        "!tar xvzf car.weights.tar.gz -C /content/data/cars/steelroses/model/"
      ],
      "execution_count": 0,
      "outputs": []
    },
    {
      "metadata": {
        "id": "4By3H84LymGN",
        "colab_type": "code",
        "colab": {}
      },
      "cell_type": "code",
      "source": [
        "from google.colab import files\n",
        "files.download('car.weights.tar.gz')"
      ],
      "execution_count": 0,
      "outputs": []
    },
    {
      "metadata": {
        "id": "BdEHNyjI0CWk",
        "colab_type": "text"
      },
      "cell_type": "markdown",
      "source": [
        "## Examine the weights and steer stats\n",
        "\n",
        "What does the computer think should happen?"
      ]
    },
    {
      "metadata": {
        "id": "RwiGnlcR0KOE",
        "colab_type": "code",
        "colab": {}
      },
      "cell_type": "code",
      "source": [
        "steerstats = np.load('/content/data/cars/steelroses/model/steerstats.npz')\n"
      ],
      "execution_count": 0,
      "outputs": []
    },
    {
      "metadata": {
        "id": "MZLhj4v40xKT",
        "colab_type": "code",
        "colab": {}
      },
      "cell_type": "code",
      "source": [
        "print(type(steerstats))\n",
        "steerstats.keys()\n"
      ],
      "execution_count": 0,
      "outputs": []
    },
    {
      "metadata": {
        "id": "WJ6E_aUI1UVP",
        "colab_type": "code",
        "colab": {}
      },
      "cell_type": "code",
      "source": [
        "steerstats['arr_0'][0:10]\n"
      ],
      "execution_count": 0,
      "outputs": []
    },
    {
      "metadata": {
        "id": "VKHhp7de7SJJ",
        "colab_type": "text"
      },
      "cell_type": "markdown",
      "source": [
        "## Examine the collected data\n",
        "\n"
      ]
    },
    {
      "metadata": {
        "id": "V2jjkl1f49Ga",
        "colab_type": "code",
        "colab": {}
      },
      "cell_type": "code",
      "source": [
        "# commands.npz\n",
        "commands = np.load('/content/data/cars/steelroses/collected/commands_2018-12-06_12-54-17.npz'  )\n",
        "print(type(commands))\n"
      ],
      "execution_count": 0,
      "outputs": []
    },
    {
      "metadata": {
        "id": "S4b5nQBX5Cqe",
        "colab_type": "code",
        "colab": {}
      },
      "cell_type": "code",
      "source": [
        "print(commands.keys())\n",
        "commands['arr_0'][0:10]"
      ],
      "execution_count": 0,
      "outputs": []
    },
    {
      "metadata": {
        "id": "Xgx1KXBF5Cxa",
        "colab_type": "code",
        "colab": {}
      },
      "cell_type": "code",
      "source": [
        "# IME npz\n",
        "imu = np.load('/content/data/cars/steelroses/collected/IMU_2018-12-06_12-54-17.npz')\n",
        "print(type(imu))"
      ],
      "execution_count": 0,
      "outputs": []
    },
    {
      "metadata": {
        "id": "hzXYqEaZ4F1m",
        "colab_type": "code",
        "colab": {}
      },
      "cell_type": "code",
      "source": [
        "print(imu.keys())\n",
        "imu['arr_0'][0:10]"
      ],
      "execution_count": 0,
      "outputs": []
    },
    {
      "metadata": {
        "id": "JqU42eNG4axC",
        "colab_type": "text"
      },
      "cell_type": "markdown",
      "source": [
        "## What images were collected"
      ]
    },
    {
      "metadata": {
        "id": "t-t3B0jt4dQP",
        "colab_type": "code",
        "colab": {}
      },
      "cell_type": "code",
      "source": [
        "images = np.load('/content/data/cars/steelroses/collected/imgs_2018-12-06_12-54-17.npz')\n",
        "print(type(images))\n",
        "\n"
      ],
      "execution_count": 0,
      "outputs": []
    },
    {
      "metadata": {
        "id": "GqAWBP0n4q_z",
        "colab_type": "code",
        "colab": {}
      },
      "cell_type": "code",
      "source": [
        "print(images.keys())\n",
        "images['arr_0'][0]"
      ],
      "execution_count": 0,
      "outputs": []
    },
    {
      "metadata": {
        "id": "l4qWGFfM8Aml",
        "colab_type": "code",
        "colab": {}
      },
      "cell_type": "code",
      "source": [
        "#image3 = np.reshape(image3, (8,8,3))\n",
        "imgplot = plt.imshow(images['arr_0'][0])"
      ],
      "execution_count": 0,
      "outputs": []
    },
    {
      "metadata": {
        "id": "EBfxHmSS-0e7",
        "colab_type": "code",
        "colab": {}
      },
      "cell_type": "code",
      "source": [
        "## Make a video clip\n",
        "# Tutorial: https://www.apriorit.com/dev-blog/600-colab-for-video-processing\n",
        "\n",
        "import cv2\n",
        "#import skimage.io\n",
        "#from matplotlib.patches import Polygon\n",
        "# VIDEO_FORMAT = \"MP4V\"\n",
        "# VIDEO_EXT = 'mp4'\n",
        "\n",
        "VIDEO_FORMAT = 'VP90'\n",
        "VIDEO_EXT = 'webm'\n",
        "\n",
        "VIDEO_OUT = '/content/data/output.' + VIDEO_EXT\n",
        "IMG_IN = '/content/data/cars/steelroses/collected/imgs_2018-12-06_12-54-17.npz'"
      ],
      "execution_count": 0,
      "outputs": []
    },
    {
      "metadata": {
        "id": "ZTM4FmEE__f6",
        "colab_type": "code",
        "colab": {}
      },
      "cell_type": "code",
      "source": [
        "image = images['arr_0'][0]\n",
        "print(image.shape)\n",
        "\n",
        "fourcc = cv2.VideoWriter_fourcc(*VIDEO_FORMAT)\n",
        "writer = cv2.VideoWriter(VIDEO_OUT, fourcc, 30, (image.shape[1], image.shape[0]), True)\n"
      ],
      "execution_count": 0,
      "outputs": []
    },
    {
      "metadata": {
        "id": "M-EyQB0iIe0L",
        "colab_type": "code",
        "colab": {}
      },
      "cell_type": "code",
      "source": [
        "#imgdata = np.load(IMG_IN)['arr_0'].astype('float32')\n",
        "imgdata = np.load(IMG_IN)['arr_0']\n",
        "print(f'\\nShape: {imgdata.shape}\\n')\n",
        "\n",
        "\n",
        "#ITERATE  the first dimension and get the image from the rest\n",
        "for index in tqdm(range(0,len(imgdata))):\n",
        "  img = imgdata[index]\n",
        "  writer.write(img)\n",
        "\n",
        "writer.release()\n",
        "print(f'Done: {VIDEO_OUT}')\n"
      ],
      "execution_count": 0,
      "outputs": []
    },
    {
      "metadata": {
        "id": "SbYspbgSWXTm",
        "colab_type": "code",
        "colab": {}
      },
      "cell_type": "code",
      "source": [
        "\n",
        "!ls /content/data"
      ],
      "execution_count": 0,
      "outputs": []
    },
    {
      "metadata": {
        "id": "uVkn-ZcctBnP",
        "colab_type": "code",
        "colab": {}
      },
      "cell_type": "code",
      "source": [
        "#Svae video locally\n",
        "from google.colab import files\n",
        "files.download(VIDEO_OUT)"
      ],
      "execution_count": 0,
      "outputs": []
    },
    {
      "metadata": {
        "id": "XuwUvkWLcrmK",
        "colab_type": "code",
        "colab": {}
      },
      "cell_type": "code",
      "source": [
        "from IPython.core.display import Video\n",
        "\n",
        "Video(VIDEO_OUT)\n"
      ],
      "execution_count": 0,
      "outputs": []
    },
    {
      "metadata": {
        "id": "RTPyX9i8YTVx",
        "colab_type": "code",
        "colab": {}
      },
      "cell_type": "code",
      "source": [
        "# The dynamic video tag is not showing. Maybe, do this in javacsript\n",
        "from IPython.core.display import display, HTML\n",
        "\n",
        "\n",
        "HTML_SRC = \"\"\"<video width=\"400\" height=\"200\">\n",
        "<source src=\"/content/data/output.webm\" type=\"video/x-webm\"></source>\n",
        "</video>\"\"\"\n",
        "print(HTML_SRC)\n",
        "\n",
        "\n",
        "\n",
        "             \n",
        "display(HTML(HTML_SRC))             "
      ],
      "execution_count": 0,
      "outputs": []
    },
    {
      "metadata": {
        "id": "p3jiLd13thvA",
        "colab_type": "text"
      },
      "cell_type": "markdown",
      "source": [
        "# Consulting the Model"
      ]
    },
    {
      "metadata": {
        "id": "BMoFo8XN3sO-",
        "colab_type": "code",
        "colab": {}
      },
      "cell_type": "code",
      "source": [
        "import keras\n",
        "import tensorflow as tf\n",
        "import concurrent.futures\n",
        "from dropout_model import model\n",
        "from defines import *\n",
        "\n",
        "\n"
      ],
      "execution_count": 0,
      "outputs": []
    },
    {
      "metadata": {
        "id": "c2hRE_HVwSkj",
        "colab_type": "code",
        "colab": {}
      },
      "cell_type": "code",
      "source": [
        "! ls /content/data/cars/steelroses/model"
      ],
      "execution_count": 0,
      "outputs": []
    },
    {
      "metadata": {
        "id": "FreGpfk_vvas",
        "colab_type": "code",
        "colab": {}
      },
      "cell_type": "code",
      "source": [
        "DATA_DIR = '/content/data/cars'\n",
        "CAR_NAME = 'steelroses'\n",
        "WEIGHTS_DIR = DATA_DIR + \"/\" + CAR_NAME + '/model/'\n",
        "WEIGHTS_FILE = WEIGHTS_DIR + 'weights_2019-04-06_13-00-23_epoch_4.h5'\n",
        "STEERSTATS_FILE = DATA_DIR + \"/\" + CAR_NAME + '/model/steerstats.npz'\n",
        "print(WEIGHTS_FILE)\n",
        "print(STEERSTATS_FILE)\n",
        "\n"
      ],
      "execution_count": 0,
      "outputs": []
    },
    {
      "metadata": {
        "id": "Y01QwVTmxdTF",
        "colab_type": "code",
        "colab": {}
      },
      "cell_type": "code",
      "source": [
        "# Use Dropout Model\n",
        "# https://github.com/fubarlabs/foocars/blob/1e6b2bccac5b8595fd053816d9117169d35ae3a1/training/dropout_model.py\n",
        "\n",
        "\n",
        "import keras\n",
        "from keras.models import Sequential\n",
        "from keras.layers.core import Dense, Dropout, Activation, Flatten, Reshape\n",
        "from keras.layers import Embedding, Input, merge\n",
        "from keras.layers.convolutional import Conv2D, MaxPooling2D\n",
        "from keras.optimizers import Adam, SGD\n",
        "from keras.regularizers import l2, l1\n",
        "from keras.utils.np_utils import to_categorical\n",
        "from keras.layers.normalization import BatchNormalization\n",
        "from keras import backend as K\n",
        "\n",
        "\n",
        "\n",
        "nrows=36\n",
        "ncols=128\n",
        "wr=0.00001 # l1 regularizer value\n",
        "dp=0.125 # dropout rate \n",
        "\n",
        "# Note: Dan used the keras functional paradigm to define his network.\n",
        "# I'm using the sequential paradigm. \n",
        "model=Sequential()\n",
        "frame_in = Input(shape=(3, nrows, ncols), name='img_input')\n",
        "\n",
        "#we should do a local contrast normalization\n",
        "\n",
        "print(\"adding first convolutional layer\")\n",
        "#5x5 convolutional layer with a stride of 2\n",
        "#model.add(BatchNormalization(input_shape=(nrows, ncols, 3)))\n",
        "model.add(Conv2D(24, (5, 5), input_shape=(nrows, ncols, 3), strides=(2, 2), activation='elu', padding='same', kernel_initializer='lecun_uniform'))\n",
        "#model.add(MaxPooling2D(pool_size=(2, 2), data_format=\"channels_last\"))\n",
        "model.add(Dropout(dp))\n",
        "\n",
        "print(\"adding second convolutional layer\")\n",
        "#5x5 convolutional layer with a stride of 2\n",
        "#model.add(BatchNormalization())\n",
        "model.add(Conv2D(32, (5, 5), strides=(2, 2), activation='elu', padding='same', kernel_initializer='lecun_uniform'))\n",
        "#model.add(MaxPooling2D(pool_size=(2, 2), data_format=\"channels_last\"))\n",
        "model.add(Dropout(dp))\n",
        "\n",
        "print(\"adding third convolutional layer\")\n",
        "#5x5 convolutional layer with a stride of 2\n",
        "#model.add(BatchNormalization())\n",
        "model.add(Conv2D(40, (5, 5), strides=(2, 2), activation='elu', padding='same', kernel_initializer='lecun_uniform'))\n",
        "#model.add(MaxPooling2D(pool_size=(2, 2), data_format=\"channels_last\"))\n",
        "model.add(Dropout(dp))\n",
        "\n",
        "print(\"adding fourth convolutional layer\")\n",
        "#3x3 convolutional layer with no stride \n",
        "#model.add(BatchNormalization())\n",
        "model.add(Conv2D(48, (3, 3), strides=(2, 2), activation='elu', padding='same', kernel_initializer='lecun_uniform'))\n",
        "#model.add(MaxPooling2D(pool_size=(2, 2), data_format=\"channels_last\"))\n",
        "model.add(Dropout(dp))\n",
        "\n",
        "print(\"adding fifth convolutional layer\")\n",
        "#3x3 convolutional layer with no stride \n",
        "#model.add(BatchNormalization())\n",
        "model.add(Conv2D(48, (3, 3), strides=(2, 2), activation='elu', padding='same', kernel_initializer='lecun_uniform'))\n",
        "#model.add(MaxPooling2D(pool_size=(2, 2), data_format=\"channels_last\"))\n",
        "#model.add(BatchNormalization())\n",
        "model.add(Dropout(dp))\n",
        "\n",
        "\n",
        "model.add(Flatten())\n",
        "\n",
        "print(\"adding fully connected layer\")\n",
        "#fully connected layer\n",
        "model.add(Dense(100, activation='elu', kernel_initializer='lecun_uniform'))\n",
        "model.add(Dropout(dp))\n",
        "\n",
        "print(\"adding output layer\")\n",
        "#fully connected layer to output node\n",
        "model.add(Dense(1, activation='linear', kernel_initializer='lecun_uniform'))\n",
        "\n",
        "model.compile(loss=['mse'], optimizer=SGD(lr=0.001, decay=1e-6, momentum=0.9, nesterov=True), metrics=['mse'])\n",
        "print(model.summary())\n"
      ],
      "execution_count": 0,
      "outputs": []
    },
    {
      "metadata": {
        "id": "PKfqNzEcuk_z",
        "colab_type": "code",
        "colab": {}
      },
      "cell_type": "code",
      "source": [
        "  model.load_weights(WEIGHTS_FILE)\n",
        "  model._make_predict_function()\n",
        "  global g_steerstats\n",
        "  g_steerstats=np.load(STEERSTATS_FILE)['arr_0']\n",
        "  \n",
        "  #g_camera=picamera.PiCamera()\n",
        "  #g_camera.resolution=(128, 96)\n",
        "  #g_camera.framerate=FRAME_RATE"
      ],
      "execution_count": 0,
      "outputs": []
    },
    {
      "metadata": {
        "id": "xqAQZOVQyseX",
        "colab_type": "code",
        "colab": {}
      },
      "cell_type": "code",
      "source": [
        "#defines image size:\n",
        "row_offset=30\n",
        "nrows=36\n",
        "ncols=128\n",
        "\n",
        "\n",
        "#imgdata = np.load(IMG_IN)['arr_0'].astype('float32')\n",
        "imgdata = np.load(IMG_IN)['arr_0']\n",
        "print(f'\\nShape: {imgdata.shape}\\n')\n",
        "\n",
        "index = 1\n",
        "img = imgdata[index]\n",
        "\n",
        "# Image must be in the shape the model is using\n",
        "#ValueError: Error when checking input: expected conv2d_6_input to have shape (36, 128, 3) but got array with shape (96, 128, 3)\n",
        "# original image shape (200, 96, 128, 3)\n",
        "\n",
        "#imagerawdata=np.reshape(np.fromstring(s, dtype=np.uint8), (96, 128, 3), 'C')\n",
        "#imdata=imagerawdata[20:56, :]\n",
        "\n",
        "immean=img.mean()\n",
        "imvar=img.std()\n",
        "g_imageData=np.copy((imgdata-immean)/imvar)\n",
        "fimg = g_imageData[0]\n",
        "\n",
        "crop_image=fimg[row_offset:row_offset+nrows, :]\n",
        "image_mean=crop_image.mean()\n",
        "image_std=crop_image.std()\n",
        "guess_image=(crop_image-image_mean)/image_std\n",
        "\n",
        "\n",
        "#The actual prediction\n",
        "pred=model.predict(np.expand_dims(guess_image, axis=0))      \n",
        "steer_command=pred[0][0]*g_steerstats[1]+g_steerstats[0]\n",
        "\n",
        "print(f'pred: {pred}, steer: {steer_command}')"
      ],
      "execution_count": 0,
      "outputs": []
    },
    {
      "metadata": {
        "id": "fBGeHrKAciWP",
        "colab_type": "code",
        "colab": {}
      },
      "cell_type": "code",
      "source": [
        "!ls"
      ],
      "execution_count": 0,
      "outputs": []
    }
  ]
}